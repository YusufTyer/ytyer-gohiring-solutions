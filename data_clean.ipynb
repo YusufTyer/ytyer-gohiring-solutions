{
 "cells": [
  {
   "cell_type": "code",
   "execution_count": 1,
   "metadata": {},
   "outputs": [],
   "source": [
    "import polars as pl\n",
    "from pathlib import Path\n",
    "import json\n",
    "from datetime import datetime as dt"
   ]
  },
  {
   "cell_type": "markdown",
   "metadata": {},
   "source": [
    "## Jobs"
   ]
  },
  {
   "cell_type": "code",
   "execution_count": 2,
   "metadata": {},
   "outputs": [],
   "source": [
    "f = open(Path(\"data/jobs.json\"))\n",
    "jobs_json = json.load(f)\n",
    "jobs_df = pl.DataFrame(jobs_json)"
   ]
  },
  {
   "cell_type": "code",
   "execution_count": 3,
   "metadata": {},
   "outputs": [
    {
     "data": {
      "text/html": [
       "<div><style>\n",
       ".dataframe > thead > tr,\n",
       ".dataframe > tbody > tr {\n",
       "  text-align: right;\n",
       "  white-space: pre-wrap;\n",
       "}\n",
       "</style>\n",
       "<small>shape: (5, 6)</small><table border=\"1\" class=\"dataframe\"><thead><tr><th>posted_at</th><th>id</th><th>state</th><th>zip</th><th>price</th><th>company_id</th></tr><tr><td>str</td><td>i64</td><td>str</td><td>i64</td><td>f64</td><td>i64</td></tr></thead><tbody><tr><td>&quot;04/13/2022 11:…</td><td>1</td><td>&quot;expired&quot;</td><td>10506</td><td>119.34</td><td>4</td></tr><tr><td>&quot;01/20/2021 04:…</td><td>2</td><td>&quot;cancelled&quot;</td><td>10506</td><td>197.89</td><td>5</td></tr><tr><td>&quot;07/21/2021 15:…</td><td>3</td><td>&quot;expired&quot;</td><td>35786</td><td>335.85</td><td>8</td></tr><tr><td>&quot;06/13/2021 20:…</td><td>4</td><td>&quot;expired&quot;</td><td>78956</td><td>150.0</td><td>6</td></tr><tr><td>&quot;06/23/2022 06:…</td><td>5</td><td>&quot;expired&quot;</td><td>78956</td><td>158.09</td><td>8</td></tr></tbody></table></div>"
      ],
      "text/plain": [
       "shape: (5, 6)\n",
       "┌──────────────────┬─────┬───────────┬───────┬────────┬────────────┐\n",
       "│ posted_at        ┆ id  ┆ state     ┆ zip   ┆ price  ┆ company_id │\n",
       "│ ---              ┆ --- ┆ ---       ┆ ---   ┆ ---    ┆ ---        │\n",
       "│ str              ┆ i64 ┆ str       ┆ i64   ┆ f64    ┆ i64        │\n",
       "╞══════════════════╪═════╪═══════════╪═══════╪════════╪════════════╡\n",
       "│ 04/13/2022 11:43 ┆ 1   ┆ expired   ┆ 10506 ┆ 119.34 ┆ 4          │\n",
       "│ 01/20/2021 04:54 ┆ 2   ┆ cancelled ┆ 10506 ┆ 197.89 ┆ 5          │\n",
       "│ 07/21/2021 15:29 ┆ 3   ┆ expired   ┆ 35786 ┆ 335.85 ┆ 8          │\n",
       "│ 06/13/2021 20:11 ┆ 4   ┆ expired   ┆ 78956 ┆ 150.0  ┆ 6          │\n",
       "│ 06/23/2022 06:52 ┆ 5   ┆ expired   ┆ 78956 ┆ 158.09 ┆ 8          │\n",
       "└──────────────────┴─────┴───────────┴───────┴────────┴────────────┘"
      ]
     },
     "execution_count": 3,
     "metadata": {},
     "output_type": "execute_result"
    }
   ],
   "source": [
    "jobs_df.head()"
   ]
  },
  {
   "cell_type": "code",
   "execution_count": 4,
   "metadata": {},
   "outputs": [
    {
     "data": {
      "text/html": [
       "<div><style>\n",
       ".dataframe > thead > tr,\n",
       ".dataframe > tbody > tr {\n",
       "  text-align: right;\n",
       "  white-space: pre-wrap;\n",
       "}\n",
       "</style>\n",
       "<small>shape: (9, 7)</small><table border=\"1\" class=\"dataframe\"><thead><tr><th>statistic</th><th>posted_at</th><th>id</th><th>state</th><th>zip</th><th>price</th><th>company_id</th></tr><tr><td>str</td><td>str</td><td>f64</td><td>str</td><td>f64</td><td>f64</td><td>f64</td></tr></thead><tbody><tr><td>&quot;count&quot;</td><td>&quot;102&quot;</td><td>102.0</td><td>&quot;102&quot;</td><td>102.0</td><td>100.0</td><td>102.0</td></tr><tr><td>&quot;null_count&quot;</td><td>&quot;0&quot;</td><td>0.0</td><td>&quot;0&quot;</td><td>0.0</td><td>2.0</td><td>0.0</td></tr><tr><td>&quot;mean&quot;</td><td>null</td><td>50.490196</td><td>null</td><td>45244.637255</td><td>324.0005</td><td>4.254902</td></tr><tr><td>&quot;std&quot;</td><td>null</td><td>29.474522</td><td>null</td><td>28860.805232</td><td>584.589206</td><td>2.54343</td></tr><tr><td>&quot;min&quot;</td><td>&quot;01/05/2022 15:…</td><td>1.0</td><td>&quot;canceled&quot;</td><td>10506.0</td><td>1.77</td><td>0.0</td></tr><tr><td>&quot;25%&quot;</td><td>null</td><td>25.0</td><td>null</td><td>25089.0</td><td>131.99</td><td>2.0</td></tr><tr><td>&quot;50%&quot;</td><td>null</td><td>51.0</td><td>null</td><td>35786.0</td><td>305.84</td><td>4.0</td></tr><tr><td>&quot;75%&quot;</td><td>null</td><td>76.0</td><td>null</td><td>78956.0</td><td>417.3</td><td>6.0</td></tr><tr><td>&quot;max&quot;</td><td>&quot;12/30/2022 16:…</td><td>100.0</td><td>&quot;posted&quot;</td><td>80976.0</td><td>5898.0</td><td>8.0</td></tr></tbody></table></div>"
      ],
      "text/plain": [
       "shape: (9, 7)\n",
       "┌────────────┬──────────────────┬───────────┬──────────┬──────────────┬────────────┬────────────┐\n",
       "│ statistic  ┆ posted_at        ┆ id        ┆ state    ┆ zip          ┆ price      ┆ company_id │\n",
       "│ ---        ┆ ---              ┆ ---       ┆ ---      ┆ ---          ┆ ---        ┆ ---        │\n",
       "│ str        ┆ str              ┆ f64       ┆ str      ┆ f64          ┆ f64        ┆ f64        │\n",
       "╞════════════╪══════════════════╪═══════════╪══════════╪══════════════╪════════════╪════════════╡\n",
       "│ count      ┆ 102              ┆ 102.0     ┆ 102      ┆ 102.0        ┆ 100.0      ┆ 102.0      │\n",
       "│ null_count ┆ 0                ┆ 0.0       ┆ 0        ┆ 0.0          ┆ 2.0        ┆ 0.0        │\n",
       "│ mean       ┆ null             ┆ 50.490196 ┆ null     ┆ 45244.637255 ┆ 324.0005   ┆ 4.254902   │\n",
       "│ std        ┆ null             ┆ 29.474522 ┆ null     ┆ 28860.805232 ┆ 584.589206 ┆ 2.54343    │\n",
       "│ min        ┆ 01/05/2022 15:15 ┆ 1.0       ┆ canceled ┆ 10506.0      ┆ 1.77       ┆ 0.0        │\n",
       "│ 25%        ┆ null             ┆ 25.0      ┆ null     ┆ 25089.0      ┆ 131.99     ┆ 2.0        │\n",
       "│ 50%        ┆ null             ┆ 51.0      ┆ null     ┆ 35786.0      ┆ 305.84     ┆ 4.0        │\n",
       "│ 75%        ┆ null             ┆ 76.0      ┆ null     ┆ 78956.0      ┆ 417.3      ┆ 6.0        │\n",
       "│ max        ┆ 12/30/2022 16:53 ┆ 100.0     ┆ posted   ┆ 80976.0      ┆ 5898.0     ┆ 8.0        │\n",
       "└────────────┴──────────────────┴───────────┴──────────┴──────────────┴────────────┴────────────┘"
      ]
     },
     "execution_count": 4,
     "metadata": {},
     "output_type": "execute_result"
    }
   ],
   "source": [
    "jobs_df.describe()"
   ]
  },
  {
   "cell_type": "code",
   "execution_count": 5,
   "metadata": {},
   "outputs": [
    {
     "data": {
      "text/plain": [
       "OrderedDict([('posted_at', String),\n",
       "             ('id', Int64),\n",
       "             ('state', String),\n",
       "             ('zip', Int64),\n",
       "             ('price', Float64),\n",
       "             ('company_id', Int64)])"
      ]
     },
     "execution_count": 5,
     "metadata": {},
     "output_type": "execute_result"
    }
   ],
   "source": [
    "jobs_df.schema"
   ]
  },
  {
   "cell_type": "code",
   "execution_count": 6,
   "metadata": {},
   "outputs": [],
   "source": [
    "jobs = (\n",
    "    jobs_df\n",
    "        .with_columns(\n",
    "            date=pl.col(\"posted_at\").str.strptime(pl.Datetime, format=\"%m/%d/%Y %H:%M\").cast(pl.Date),\n",
    "            price=pl.col(\"price\").round(2)\n",
    "        )\n",
    "        .with_columns(\n",
    "            month=pl.col(\"date\").dt.month(),\n",
    "            year=pl.col(\"date\").dt.year()\n",
    "        )\n",
    ").drop(\"posted_at\")"
   ]
  },
  {
   "cell_type": "markdown",
   "metadata": {},
   "source": [
    "### Drop two null rows where state is \"posted\" for company id 8 and 3"
   ]
  },
  {
   "cell_type": "code",
   "execution_count": 7,
   "metadata": {},
   "outputs": [],
   "source": [
    "jobs = jobs.drop_nulls()"
   ]
  },
  {
   "cell_type": "markdown",
   "metadata": {},
   "source": [
    "### Check for duplicate IDs in the data"
   ]
  },
  {
   "cell_type": "code",
   "execution_count": 8,
   "metadata": {},
   "outputs": [
    {
     "data": {
      "text/html": [
       "<div><style>\n",
       ".dataframe > thead > tr,\n",
       ".dataframe > tbody > tr {\n",
       "  text-align: right;\n",
       "  white-space: pre-wrap;\n",
       "}\n",
       "</style>\n",
       "<small>shape: (2, 2)</small><table border=\"1\" class=\"dataframe\"><thead><tr><th>id</th><th>records</th></tr><tr><td>i64</td><td>u32</td></tr></thead><tbody><tr><td>97</td><td>2</td></tr><tr><td>3</td><td>2</td></tr></tbody></table></div>"
      ],
      "text/plain": [
       "shape: (2, 2)\n",
       "┌─────┬─────────┐\n",
       "│ id  ┆ records │\n",
       "│ --- ┆ ---     │\n",
       "│ i64 ┆ u32     │\n",
       "╞═════╪═════════╡\n",
       "│ 97  ┆ 2       │\n",
       "│ 3   ┆ 2       │\n",
       "└─────┴─────────┘"
      ]
     },
     "execution_count": 8,
     "metadata": {},
     "output_type": "execute_result"
    }
   ],
   "source": [
    "jobs.group_by(\"id\").agg(records=pl.count(\"id\")).filter(pl.col(\"records\").gt(1))"
   ]
  },
  {
   "cell_type": "code",
   "execution_count": 9,
   "metadata": {},
   "outputs": [],
   "source": [
    "jobs = jobs.unique()"
   ]
  },
  {
   "cell_type": "markdown",
   "metadata": {},
   "source": [
    "### Fix state spelling errors"
   ]
  },
  {
   "cell_type": "code",
   "execution_count": 10,
   "metadata": {},
   "outputs": [
    {
     "data": {
      "text/html": [
       "<div><style>\n",
       ".dataframe > thead > tr,\n",
       ".dataframe > tbody > tr {\n",
       "  text-align: right;\n",
       "  white-space: pre-wrap;\n",
       "}\n",
       "</style>\n",
       "<small>shape: (5, 2)</small><table border=\"1\" class=\"dataframe\"><thead><tr><th>state</th><th>id</th></tr><tr><td>str</td><td>u32</td></tr></thead><tbody><tr><td>&quot;posted&quot;</td><td>23</td></tr><tr><td>&quot;cancelled&quot;</td><td>40</td></tr><tr><td>&quot;expired&quot;</td><td>33</td></tr><tr><td>&quot;canceled&quot;</td><td>1</td></tr><tr><td>&quot;osted&quot;</td><td>1</td></tr></tbody></table></div>"
      ],
      "text/plain": [
       "shape: (5, 2)\n",
       "┌───────────┬─────┐\n",
       "│ state     ┆ id  │\n",
       "│ ---       ┆ --- │\n",
       "│ str       ┆ u32 │\n",
       "╞═══════════╪═════╡\n",
       "│ posted    ┆ 23  │\n",
       "│ cancelled ┆ 40  │\n",
       "│ expired   ┆ 33  │\n",
       "│ canceled  ┆ 1   │\n",
       "│ osted     ┆ 1   │\n",
       "└───────────┴─────┘"
      ]
     },
     "execution_count": 10,
     "metadata": {},
     "output_type": "execute_result"
    }
   ],
   "source": [
    "jobs.group_by(\"state\").agg(pl.count(\"id\"))"
   ]
  },
  {
   "cell_type": "code",
   "execution_count": 11,
   "metadata": {},
   "outputs": [],
   "source": [
    "jobs = jobs.with_columns(\n",
    "    state=(\n",
    "        pl.when(\n",
    "            pl.col(\"state\").eq(\"osted\")\n",
    "        ).then(\n",
    "            pl.lit(\"posted\")\n",
    "        ).when(\n",
    "            pl.col(\"state\").eq(\"canceled\")\n",
    "        ).then(\n",
    "            pl.lit(\"cancelled\")\n",
    "        ).otherwise(pl.col(\"state\"))\n",
    "    ),\n",
    "    zip_code=pl.col(\"zip\")\n",
    ").drop(\"zip\")"
   ]
  },
  {
   "cell_type": "code",
   "execution_count": 12,
   "metadata": {},
   "outputs": [
    {
     "data": {
      "text/html": [
       "<div><style>\n",
       ".dataframe > thead > tr,\n",
       ".dataframe > tbody > tr {\n",
       "  text-align: right;\n",
       "  white-space: pre-wrap;\n",
       "}\n",
       "</style>\n",
       "<small>shape: (9, 9)</small><table border=\"1\" class=\"dataframe\"><thead><tr><th>statistic</th><th>id</th><th>state</th><th>price</th><th>company_id</th><th>date</th><th>month</th><th>year</th><th>zip_code</th></tr><tr><td>str</td><td>f64</td><td>str</td><td>f64</td><td>f64</td><td>str</td><td>f64</td><td>f64</td><td>f64</td></tr></thead><tbody><tr><td>&quot;count&quot;</td><td>98.0</td><td>&quot;98&quot;</td><td>98.0</td><td>98.0</td><td>&quot;98&quot;</td><td>98.0</td><td>98.0</td><td>98.0</td></tr><tr><td>&quot;null_count&quot;</td><td>0.0</td><td>&quot;0&quot;</td><td>0.0</td><td>0.0</td><td>&quot;0&quot;</td><td>0.0</td><td>0.0</td><td>0.0</td></tr><tr><td>&quot;mean&quot;</td><td>50.183673</td><td>null</td><td>327.065</td><td>4.22449</td><td>&quot;2021-12-17&quot;</td><td>6.091837</td><td>2021.5</td><td>44838.22449</td></tr><tr><td>&quot;std&quot;</td><td>28.903446</td><td>null</td><td>589.724716</td><td>2.514005</td><td>null</td><td>3.327755</td><td>0.502571</td><td>28933.351312</td></tr><tr><td>&quot;min&quot;</td><td>1.0</td><td>&quot;cancelled&quot;</td><td>1.77</td><td>0.0</td><td>&quot;2021-01-06&quot;</td><td>1.0</td><td>2021.0</td><td>10506.0</td></tr><tr><td>&quot;25%&quot;</td><td>25.0</td><td>null</td><td>131.99</td><td>2.0</td><td>&quot;2021-06-13&quot;</td><td>3.0</td><td>2021.0</td><td>25089.0</td></tr><tr><td>&quot;50%&quot;</td><td>51.0</td><td>null</td><td>305.84</td><td>4.0</td><td>&quot;2022-01-05&quot;</td><td>6.0</td><td>2022.0</td><td>35786.0</td></tr><tr><td>&quot;75%&quot;</td><td>75.0</td><td>null</td><td>423.05</td><td>6.0</td><td>&quot;2022-06-17&quot;</td><td>9.0</td><td>2022.0</td><td>78956.0</td></tr><tr><td>&quot;max&quot;</td><td>100.0</td><td>&quot;posted&quot;</td><td>5898.0</td><td>8.0</td><td>&quot;2022-12-30&quot;</td><td>12.0</td><td>2022.0</td><td>80976.0</td></tr></tbody></table></div>"
      ],
      "text/plain": [
       "shape: (9, 9)\n",
       "┌────────────┬───────────┬───────────┬───────────┬───┬───────────┬──────────┬──────────┬───────────┐\n",
       "│ statistic  ┆ id        ┆ state     ┆ price     ┆ … ┆ date      ┆ month    ┆ year     ┆ zip_code  │\n",
       "│ ---        ┆ ---       ┆ ---       ┆ ---       ┆   ┆ ---       ┆ ---      ┆ ---      ┆ ---       │\n",
       "│ str        ┆ f64       ┆ str       ┆ f64       ┆   ┆ str       ┆ f64      ┆ f64      ┆ f64       │\n",
       "╞════════════╪═══════════╪═══════════╪═══════════╪═══╪═══════════╪══════════╪══════════╪═══════════╡\n",
       "│ count      ┆ 98.0      ┆ 98        ┆ 98.0      ┆ … ┆ 98        ┆ 98.0     ┆ 98.0     ┆ 98.0      │\n",
       "│ null_count ┆ 0.0       ┆ 0         ┆ 0.0       ┆ … ┆ 0         ┆ 0.0      ┆ 0.0      ┆ 0.0       │\n",
       "│ mean       ┆ 50.183673 ┆ null      ┆ 327.065   ┆ … ┆ 2021-12-1 ┆ 6.091837 ┆ 2021.5   ┆ 44838.224 │\n",
       "│            ┆           ┆           ┆           ┆   ┆ 7         ┆          ┆          ┆ 49        │\n",
       "│ std        ┆ 28.903446 ┆ null      ┆ 589.72471 ┆ … ┆ null      ┆ 3.327755 ┆ 0.502571 ┆ 28933.351 │\n",
       "│            ┆           ┆           ┆ 6         ┆   ┆           ┆          ┆          ┆ 312       │\n",
       "│ min        ┆ 1.0       ┆ cancelled ┆ 1.77      ┆ … ┆ 2021-01-0 ┆ 1.0      ┆ 2021.0   ┆ 10506.0   │\n",
       "│            ┆           ┆           ┆           ┆   ┆ 6         ┆          ┆          ┆           │\n",
       "│ 25%        ┆ 25.0      ┆ null      ┆ 131.99    ┆ … ┆ 2021-06-1 ┆ 3.0      ┆ 2021.0   ┆ 25089.0   │\n",
       "│            ┆           ┆           ┆           ┆   ┆ 3         ┆          ┆          ┆           │\n",
       "│ 50%        ┆ 51.0      ┆ null      ┆ 305.84    ┆ … ┆ 2022-01-0 ┆ 6.0      ┆ 2022.0   ┆ 35786.0   │\n",
       "│            ┆           ┆           ┆           ┆   ┆ 5         ┆          ┆          ┆           │\n",
       "│ 75%        ┆ 75.0      ┆ null      ┆ 423.05    ┆ … ┆ 2022-06-1 ┆ 9.0      ┆ 2022.0   ┆ 78956.0   │\n",
       "│            ┆           ┆           ┆           ┆   ┆ 7         ┆          ┆          ┆           │\n",
       "│ max        ┆ 100.0     ┆ posted    ┆ 5898.0    ┆ … ┆ 2022-12-3 ┆ 12.0     ┆ 2022.0   ┆ 80976.0   │\n",
       "│            ┆           ┆           ┆           ┆   ┆ 0         ┆          ┆          ┆           │\n",
       "└────────────┴───────────┴───────────┴───────────┴───┴───────────┴──────────┴──────────┴───────────┘"
      ]
     },
     "execution_count": 12,
     "metadata": {},
     "output_type": "execute_result"
    }
   ],
   "source": [
    "jobs.describe()"
   ]
  },
  {
   "cell_type": "code",
   "execution_count": 24,
   "metadata": {},
   "outputs": [
    {
     "data": {
      "text/plain": [
       "OrderedDict([('id', Int64),\n",
       "             ('state', String),\n",
       "             ('price', Float64),\n",
       "             ('company_id', Int64),\n",
       "             ('date', Date),\n",
       "             ('month', Int8),\n",
       "             ('year', Int32),\n",
       "             ('zip_code', Int64)])"
      ]
     },
     "execution_count": 24,
     "metadata": {},
     "output_type": "execute_result"
    }
   ],
   "source": [
    "jobs.schema"
   ]
  },
  {
   "cell_type": "code",
   "execution_count": 13,
   "metadata": {},
   "outputs": [],
   "source": [
    "jobs.write_parquet(Path(\"data/cleaned/jobs.parquet\"))"
   ]
  },
  {
   "cell_type": "markdown",
   "metadata": {},
   "source": [
    "## Companies"
   ]
  },
  {
   "cell_type": "code",
   "execution_count": 14,
   "metadata": {},
   "outputs": [],
   "source": [
    "f = open(Path(\"data/companies.json\"))\n",
    "companies_dict = json.load(f)\n",
    "companies_json = [{col: companies_dict[col][str(i)] for col in companies_dict} for i in range(len(companies_dict[\"Company ID\"]))]\n",
    "companies_df = pl.DataFrame(companies_json)"
   ]
  },
  {
   "cell_type": "code",
   "execution_count": 15,
   "metadata": {},
   "outputs": [
    {
     "data": {
      "text/html": [
       "<div><style>\n",
       ".dataframe > thead > tr,\n",
       ".dataframe > tbody > tr {\n",
       "  text-align: right;\n",
       "  white-space: pre-wrap;\n",
       "}\n",
       "</style>\n",
       "<small>shape: (10, 4)</small><table border=\"1\" class=\"dataframe\"><thead><tr><th>Company ID</th><th>Company Name</th><th>Establishment Date</th><th>Number of Employees</th></tr><tr><td>i64</td><td>str</td><td>i64</td><td>i64</td></tr></thead><tbody><tr><td>0</td><td>&quot;Acme Inc.&quot;</td><td>1577750400000</td><td>404</td></tr><tr><td>1</td><td>&quot;Best Corp.&quot;</td><td>1616284800000</td><td>229</td></tr><tr><td>2</td><td>&quot;Bright Future …</td><td>1605312000000</td><td>222</td></tr><tr><td>3</td><td>&quot;Delta Inc.&quot;</td><td>1604620800000</td><td>662</td></tr><tr><td>4</td><td>&quot;Echo Enterpris…</td><td>1651708800000</td><td>255</td></tr><tr><td>5</td><td>&quot;Fast Track Inc…</td><td>1583625600000</td><td>374</td></tr><tr><td>6</td><td>&quot;Global Enterpr…</td><td>1643846400000</td><td>896</td></tr><tr><td>7</td><td>&quot;High Hopes Inc…</td><td>1584403200000</td><td>812</td></tr><tr><td>8</td><td>&quot;Infinite Solut…</td><td>1615507200000</td><td>436</td></tr><tr><td>9</td><td>&quot;Jumpstart Corp…</td><td>1588896000000</td><td>872</td></tr></tbody></table></div>"
      ],
      "text/plain": [
       "shape: (10, 4)\n",
       "┌────────────┬───────────────────────────┬────────────────────┬─────────────────────┐\n",
       "│ Company ID ┆ Company Name              ┆ Establishment Date ┆ Number of Employees │\n",
       "│ ---        ┆ ---                       ┆ ---                ┆ ---                 │\n",
       "│ i64        ┆ str                       ┆ i64                ┆ i64                 │\n",
       "╞════════════╪═══════════════════════════╪════════════════════╪═════════════════════╡\n",
       "│ 0          ┆ Acme Inc.                 ┆ 1577750400000      ┆ 404                 │\n",
       "│ 1          ┆ Best Corp.                ┆ 1616284800000      ┆ 229                 │\n",
       "│ 2          ┆ Bright Future Enterprises ┆ 1605312000000      ┆ 222                 │\n",
       "│ 3          ┆ Delta Inc.                ┆ 1604620800000      ┆ 662                 │\n",
       "│ 4          ┆ Echo Enterprises          ┆ 1651708800000      ┆ 255                 │\n",
       "│ 5          ┆ Fast Track Inc.           ┆ 1583625600000      ┆ 374                 │\n",
       "│ 6          ┆ Global Enterprises        ┆ 1643846400000      ┆ 896                 │\n",
       "│ 7          ┆ High Hopes Inc.           ┆ 1584403200000      ┆ 812                 │\n",
       "│ 8          ┆ Infinite Solutions        ┆ 1615507200000      ┆ 436                 │\n",
       "│ 9          ┆ Jumpstart Corp.           ┆ 1588896000000      ┆ 872                 │\n",
       "└────────────┴───────────────────────────┴────────────────────┴─────────────────────┘"
      ]
     },
     "execution_count": 15,
     "metadata": {},
     "output_type": "execute_result"
    }
   ],
   "source": [
    "companies_df.head(10)"
   ]
  },
  {
   "cell_type": "code",
   "execution_count": 16,
   "metadata": {},
   "outputs": [
    {
     "data": {
      "text/html": [
       "<div><style>\n",
       ".dataframe > thead > tr,\n",
       ".dataframe > tbody > tr {\n",
       "  text-align: right;\n",
       "  white-space: pre-wrap;\n",
       "}\n",
       "</style>\n",
       "<small>shape: (9, 5)</small><table border=\"1\" class=\"dataframe\"><thead><tr><th>statistic</th><th>Company ID</th><th>Company Name</th><th>Establishment Date</th><th>Number of Employees</th></tr><tr><td>str</td><td>f64</td><td>str</td><td>f64</td><td>f64</td></tr></thead><tbody><tr><td>&quot;count&quot;</td><td>10.0</td><td>&quot;10&quot;</td><td>10.0</td><td>10.0</td></tr><tr><td>&quot;null_count&quot;</td><td>0.0</td><td>&quot;0&quot;</td><td>0.0</td><td>0.0</td></tr><tr><td>&quot;mean&quot;</td><td>4.5</td><td>null</td><td>1.6072e12</td><td>516.2</td></tr><tr><td>&quot;std&quot;</td><td>3.02765</td><td>null</td><td>2.5306e10</td><td>270.000329</td></tr><tr><td>&quot;min&quot;</td><td>0.0</td><td>&quot;Acme Inc.&quot;</td><td>1.5778e12</td><td>222.0</td></tr><tr><td>&quot;25%&quot;</td><td>2.0</td><td>null</td><td>1.5844e12</td><td>255.0</td></tr><tr><td>&quot;50%&quot;</td><td>5.0</td><td>null</td><td>1.6053e12</td><td>436.0</td></tr><tr><td>&quot;75%&quot;</td><td>7.0</td><td>null</td><td>1.6163e12</td><td>812.0</td></tr><tr><td>&quot;max&quot;</td><td>9.0</td><td>&quot;Jumpstart Corp…</td><td>1.6517e12</td><td>896.0</td></tr></tbody></table></div>"
      ],
      "text/plain": [
       "shape: (9, 5)\n",
       "┌────────────┬────────────┬─────────────────┬────────────────────┬─────────────────────┐\n",
       "│ statistic  ┆ Company ID ┆ Company Name    ┆ Establishment Date ┆ Number of Employees │\n",
       "│ ---        ┆ ---        ┆ ---             ┆ ---                ┆ ---                 │\n",
       "│ str        ┆ f64        ┆ str             ┆ f64                ┆ f64                 │\n",
       "╞════════════╪════════════╪═════════════════╪════════════════════╪═════════════════════╡\n",
       "│ count      ┆ 10.0       ┆ 10              ┆ 10.0               ┆ 10.0                │\n",
       "│ null_count ┆ 0.0        ┆ 0               ┆ 0.0                ┆ 0.0                 │\n",
       "│ mean       ┆ 4.5        ┆ null            ┆ 1.6072e12          ┆ 516.2               │\n",
       "│ std        ┆ 3.02765    ┆ null            ┆ 2.5306e10          ┆ 270.000329          │\n",
       "│ min        ┆ 0.0        ┆ Acme Inc.       ┆ 1.5778e12          ┆ 222.0               │\n",
       "│ 25%        ┆ 2.0        ┆ null            ┆ 1.5844e12          ┆ 255.0               │\n",
       "│ 50%        ┆ 5.0        ┆ null            ┆ 1.6053e12          ┆ 436.0               │\n",
       "│ 75%        ┆ 7.0        ┆ null            ┆ 1.6163e12          ┆ 812.0               │\n",
       "│ max        ┆ 9.0        ┆ Jumpstart Corp. ┆ 1.6517e12          ┆ 896.0               │\n",
       "└────────────┴────────────┴─────────────────┴────────────────────┴─────────────────────┘"
      ]
     },
     "execution_count": 16,
     "metadata": {},
     "output_type": "execute_result"
    }
   ],
   "source": [
    "companies_df.describe()"
   ]
  },
  {
   "cell_type": "markdown",
   "metadata": {},
   "source": [
    "### Convert UNIX timestamp to human-readable date"
   ]
  },
  {
   "cell_type": "code",
   "execution_count": 17,
   "metadata": {},
   "outputs": [],
   "source": [
    "companies = (\n",
    "    companies_df\n",
    "        .with_columns(\n",
    "            pl.col(\"Establishment Date\").map_elements(\n",
    "                lambda x: dt.fromtimestamp(x/1000.0).strftime('%Y-%m-%d'),\n",
    "                return_dtype=pl.String\n",
    "            ).str.to_date().alias(\"Establishment Date\")\n",
    "        )\n",
    ")"
   ]
  },
  {
   "cell_type": "code",
   "execution_count": 18,
   "metadata": {},
   "outputs": [],
   "source": [
    "companies = companies.rename({col: col.replace(\" \", \"_\").lower() for col in companies.columns})"
   ]
  },
  {
   "cell_type": "code",
   "execution_count": 25,
   "metadata": {},
   "outputs": [
    {
     "data": {
      "text/plain": [
       "OrderedDict([('company_id', Int64),\n",
       "             ('company_name', String),\n",
       "             ('establishment_date', Date),\n",
       "             ('number_of_employees', Int64)])"
      ]
     },
     "execution_count": 25,
     "metadata": {},
     "output_type": "execute_result"
    }
   ],
   "source": [
    "companies.schema"
   ]
  },
  {
   "cell_type": "code",
   "execution_count": 19,
   "metadata": {},
   "outputs": [],
   "source": [
    "companies.write_parquet(Path(\"data/cleaned/companies.parquet\"))"
   ]
  },
  {
   "cell_type": "markdown",
   "metadata": {},
   "source": []
  },
  {
   "cell_type": "markdown",
   "metadata": {},
   "source": [
    "## Locations"
   ]
  },
  {
   "cell_type": "code",
   "execution_count": 20,
   "metadata": {},
   "outputs": [],
   "source": [
    "locations = pl.read_csv(Path(\"data/locations.csv\"))"
   ]
  },
  {
   "cell_type": "code",
   "execution_count": 21,
   "metadata": {},
   "outputs": [
    {
     "data": {
      "text/html": [
       "<div><style>\n",
       ".dataframe > thead > tr,\n",
       ".dataframe > tbody > tr {\n",
       "  text-align: right;\n",
       "  white-space: pre-wrap;\n",
       "}\n",
       "</style>\n",
       "<small>shape: (5, 2)</small><table border=\"1\" class=\"dataframe\"><thead><tr><th>zip_code</th><th>location</th></tr><tr><td>i64</td><td>str</td></tr></thead><tbody><tr><td>10506</td><td>&quot;King&#x27;s Landing…</td></tr><tr><td>80976</td><td>&quot;Dorne&quot;</td></tr><tr><td>78956</td><td>&quot;Braavos&quot;</td></tr><tr><td>67305</td><td>&quot;Harrenhal&quot;</td></tr><tr><td>25089</td><td>&quot;Winterfell&quot;</td></tr></tbody></table></div>"
      ],
      "text/plain": [
       "shape: (5, 2)\n",
       "┌──────────┬────────────────┐\n",
       "│ zip_code ┆ location       │\n",
       "│ ---      ┆ ---            │\n",
       "│ i64      ┆ str            │\n",
       "╞══════════╪════════════════╡\n",
       "│ 10506    ┆ King's Landing │\n",
       "│ 80976    ┆ Dorne          │\n",
       "│ 78956    ┆ Braavos        │\n",
       "│ 67305    ┆ Harrenhal      │\n",
       "│ 25089    ┆ Winterfell     │\n",
       "└──────────┴────────────────┘"
      ]
     },
     "execution_count": 21,
     "metadata": {},
     "output_type": "execute_result"
    }
   ],
   "source": [
    "locations.head()"
   ]
  },
  {
   "cell_type": "code",
   "execution_count": 26,
   "metadata": {},
   "outputs": [
    {
     "data": {
      "text/plain": [
       "OrderedDict([('zip_code', Int64), ('location', String)])"
      ]
     },
     "execution_count": 26,
     "metadata": {},
     "output_type": "execute_result"
    }
   ],
   "source": [
    "locations.schema"
   ]
  },
  {
   "cell_type": "code",
   "execution_count": 22,
   "metadata": {},
   "outputs": [],
   "source": [
    "locations.write_parquet(Path(\"data/cleaned/locations.parquet\"))"
   ]
  },
  {
   "cell_type": "code",
   "execution_count": null,
   "metadata": {},
   "outputs": [],
   "source": []
  }
 ],
 "metadata": {
  "kernelspec": {
   "display_name": ".venv",
   "language": "python",
   "name": "python3"
  },
  "language_info": {
   "codemirror_mode": {
    "name": "ipython",
    "version": 3
   },
   "file_extension": ".py",
   "mimetype": "text/x-python",
   "name": "python",
   "nbconvert_exporter": "python",
   "pygments_lexer": "ipython3",
   "version": "3.9.13"
  }
 },
 "nbformat": 4,
 "nbformat_minor": 2
}
