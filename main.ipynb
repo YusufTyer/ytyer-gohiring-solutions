{
 "cells": [
  {
   "cell_type": "code",
   "execution_count": 1,
   "metadata": {},
   "outputs": [],
   "source": [
    "import polars as pl\n",
    "from pathlib import Path"
   ]
  },
  {
   "cell_type": "markdown",
   "metadata": {},
   "source": [
    "## Data"
   ]
  },
  {
   "cell_type": "code",
   "execution_count": 2,
   "metadata": {},
   "outputs": [],
   "source": [
    "locations = pl.scan_parquet(Path(\"data/cleaned/locations.parquet\"))\n",
    "jobs = pl.scan_parquet(Path(\"data/cleaned/jobs.parquet\"))\n",
    "companies = pl.scan_parquet(Path(\"data/cleaned/companies.parquet\"))\n"
   ]
  },
  {
   "cell_type": "markdown",
   "metadata": {},
   "source": [
    "## 1. What location has the most jobs that are either posted or expired?"
   ]
  },
  {
   "cell_type": "code",
   "execution_count": 3,
   "metadata": {},
   "outputs": [
    {
     "data": {
      "text/plain": [
       "{'location': 'Tarth', 'jobs': 15}"
      ]
     },
     "execution_count": 3,
     "metadata": {},
     "output_type": "execute_result"
    }
   ],
   "source": [
    "(\n",
    "    locations\n",
    "    .join(jobs, on=\"zip_code\")\n",
    "    .filter(pl.col(\"state\").is_in([\"posted\", \"expired\"]))\n",
    "    .group_by(\"location\")\n",
    "    .agg(jobs=pl.count(\"id\"))\n",
    "    .sort(\"jobs\", descending=True)\n",
    "    .collect()\n",
    "    .to_dicts()\n",
    ")[0]"
   ]
  },
  {
   "cell_type": "markdown",
   "metadata": {},
   "source": [
    "## 2. What month had the most cancelled jobs?"
   ]
  },
  {
   "cell_type": "code",
   "execution_count": 4,
   "metadata": {},
   "outputs": [
    {
     "data": {
      "text/plain": [
       "{'year': 2021, 'month': 6, 'jobs': 5}"
      ]
     },
     "execution_count": 4,
     "metadata": {},
     "output_type": "execute_result"
    }
   ],
   "source": [
    "(\n",
    "    jobs\n",
    "    .filter(pl.col(\"state\").eq(\"cancelled\"))\n",
    "    .group_by(\"year\", \"month\")\n",
    "    .agg(jobs=pl.count(\"id\"))\n",
    "    .sort(\"jobs\", descending=True)\n",
    "    .collect()\n",
    "    .to_dicts()\n",
    ")[0]"
   ]
  },
  {
   "cell_type": "markdown",
   "metadata": {},
   "source": [
    "## 3. Which company has the highest ratio of posted jobs to employee count?"
   ]
  },
  {
   "cell_type": "markdown",
   "metadata": {},
   "source": [
    "There's no job data available for Jumpstart Corp. "
   ]
  },
  {
   "cell_type": "code",
   "execution_count": 5,
   "metadata": {},
   "outputs": [
    {
     "data": {
      "text/plain": [
       "{'company_name': 'Best Corp.',\n",
       " 'number_of_employees': 229,\n",
       " 'posted_jobs': 4,\n",
       " 'posted_jobs_per_employee': 0.017467248908296942}"
      ]
     },
     "execution_count": 5,
     "metadata": {},
     "output_type": "execute_result"
    }
   ],
   "source": [
    "(\n",
    "    companies\n",
    "    .join(jobs, on=\"company_id\")\n",
    "    .filter(pl.col(\"state\").eq(\"posted\"))\n",
    "    .group_by(\"company_name\", \"number_of_employees\")\n",
    "    .agg(posted_jobs=pl.count(\"id\"))\n",
    "    .with_columns(posted_jobs_per_employee=pl.col(\"posted_jobs\") / pl.col(\"number_of_employees\"))\n",
    "    .sort(\"posted_jobs_per_employee\", descending=True)\n",
    "    .collect()\n",
    "    .to_dicts()\n",
    ")[0]"
   ]
  },
  {
   "cell_type": "markdown",
   "metadata": {},
   "source": [
    "### 4. Develop the SQL to define a dimensional model schema for this data. Document (or be ready to discuss) any design decisions that you make."
   ]
  },
  {
   "cell_type": "markdown",
   "metadata": {},
   "source": [
    "1. Company Dimension"
   ]
  },
  {
   "cell_type": "code",
   "execution_count": 6,
   "metadata": {
    "vscode": {
     "languageId": "sql"
    }
   },
   "outputs": [
    {
     "ename": "SyntaxError",
     "evalue": "invalid syntax (1704445078.py, line 1)",
     "output_type": "error",
     "traceback": [
      "\u001b[1;36m  Cell \u001b[1;32mIn[6], line 1\u001b[1;36m\u001b[0m\n\u001b[1;33m    CREATE TABLE dim_company\u001b[0m\n\u001b[1;37m           ^\u001b[0m\n\u001b[1;31mSyntaxError\u001b[0m\u001b[1;31m:\u001b[0m invalid syntax\n"
     ]
    }
   ],
   "source": [
    "CREATE TABLE dim_company\n",
    "(\n",
    "    company_id INT PRIMARY KEY,\n",
    "    company_name VARCHAR(255),\n",
    "    establishment_date DATE,\n",
    "    number_of_employees INT\n",
    ");"
   ]
  },
  {
   "cell_type": "markdown",
   "metadata": {},
   "source": [
    "2. Location Dimension"
   ]
  },
  {
   "cell_type": "code",
   "execution_count": null,
   "metadata": {
    "vscode": {
     "languageId": "sql"
    }
   },
   "outputs": [],
   "source": [
    "CREATE TABLE dim_location\n",
    "(\n",
    "    zip_code INT PRIMARY KEY,\n",
    "    location VARCHAR(255)\n",
    ");"
   ]
  },
  {
   "cell_type": "markdown",
   "metadata": {},
   "source": [
    "3. Fact Table"
   ]
  },
  {
   "cell_type": "code",
   "execution_count": null,
   "metadata": {
    "vscode": {
     "languageId": "sql"
    }
   },
   "outputs": [],
   "source": [
    "CREATE TABLE jobs\n",
    "(\n",
    "    id INT PRIMARY KEY,\n",
    "    state VARCHAR(255),\n",
    "    price FLOAT,\n",
    "    company_id INT,\n",
    "    date DATE,\n",
    "    month SMALLINT,\n",
    "    year INT,\n",
    "    zip_code INT,\n",
    "    FOREIGN KEY (company_id) REFERENCES dim_company(company_id),\n",
    "    FOREIGN KEY (zip_code) REFERENCES dim_location(zip_code)\n",
    ");"
   ]
  },
  {
   "cell_type": "markdown",
   "metadata": {},
   "source": [
    "#### Design Considerations"
   ]
  },
  {
   "cell_type": "markdown",
   "metadata": {},
   "source": [
    "- Primary Keys: Each table has a primary key (company_id, zip_code, and id for the fact table), which uniquely identifies a row within those tables.\n",
    "\n",
    "- Foreign Keys in Fact Table: The fact_transaction table includes foreign keys to dim_company and dim_location. This enforces referential integrity between the transactions and companies/locations involved. It allows the fact table to remain lean and optimized for queries that join on these dimensions for descriptive analysis.\n",
    "\n",
    "- Normalization: The schema shows a normalized form to avoid redundancy and ensure data integrity. This is particularly important for the company and location information, which might relate to many transactions.\n",
    "\n",
    "- Granularity: The fact table's granularity is at the individual transaction level, containing foreign keys back to the dimension tables for descriptive attributes.\n",
    "\n",
    "- Month and Year Columns: Including month and year as separate columns in the fact_transaction table can speed up queries that aggregate data by these time units without requiring extraction from the date column."
   ]
  },
  {
   "cell_type": "markdown",
   "metadata": {},
   "source": [
    "#### Additional Considerations (Not Implemented):"
   ]
  },
  {
   "cell_type": "markdown",
   "metadata": {},
   "source": [
    "- Job Description: The job description is not included in the schema. If this information is needed for analysis, it could be stored in a separate table linked to the fact table by a foreign key.\n",
    "\n",
    "- Keys and Indexes: The schema does not include keys or indexes for performance optimization. Depending on the database system and query patterns, these could be added to improve query performance."
   ]
  },
  {
   "cell_type": "markdown",
   "metadata": {},
   "source": [
    "### 5. Using your dimensional model, write a SQL query that returns a list of jobs for each company, ordered and enumerated within each group by the posted_at date"
   ]
  },
  {
   "cell_type": "code",
   "execution_count": null,
   "metadata": {
    "vscode": {
     "languageId": "sql"
    }
   },
   "outputs": [],
   "source": [
    "WITH OrderedJobs AS (\n",
    "  SELECT\n",
    "    j.id AS job_id,\n",
    "    c.company_name,\n",
    "    j.date AS posted_date,\n",
    "    ROW_NUMBER() OVER(PARTITION BY j.company_id ORDER BY j.date) AS job_sequence_number\n",
    "  FROM jobs j\n",
    "  JOIN dim_company c ON j.company_id = c.company_id\n",
    ")\n",
    "\n",
    "SELECT *\n",
    "FROM OrderedJobs\n",
    "ORDER BY company_name, posted_date;"
   ]
  },
  {
   "cell_type": "markdown",
   "metadata": {},
   "source": [
    "### 6. Discuss how you would obtain and model information (within your schema) about the duration of jobs (from posted to expired states)."
   ]
  },
  {
   "cell_type": "markdown",
   "metadata": {},
   "source": [
    "The schema currently contains `date` which is referring to the date at which the job was posted. To model the duration of jobs, we could add a new column to the fact table called `expired_at`. When a new job listing is captured, both the start (posting) and end (expiration) points should be recorded.\n",
    "\n",
    "Using the newly added `expired_at` field, we can calculate the difference between the `posted_at` and `expired_at` dates. This would allow us to analyze the length of time jobs are active and identify trends or patterns in job duration."
   ]
  },
  {
   "cell_type": "markdown",
   "metadata": {},
   "source": [
    "### 7. Provide a visualization showing the trend of the number of active jobs over time. Also include the company name data in this visualization."
   ]
  },
  {
   "cell_type": "markdown",
   "metadata": {},
   "source": [
    "Assuming active jobs implies jobs that are currently posted and not expired or cancelled."
   ]
  },
  {
   "cell_type": "code",
   "execution_count": 6,
   "metadata": {},
   "outputs": [],
   "source": [
    "import plotly.graph_objects as go\n",
    "from datetime import date"
   ]
  },
  {
   "cell_type": "code",
   "execution_count": 7,
   "metadata": {},
   "outputs": [],
   "source": [
    "def create_area_chart(x: list[date], y: list[list[float]], name: list[str]) -> go.Figure:\n",
    "    assert len(y) == len(name)\n",
    "\n",
    "    fig = go.Figure()\n",
    "    for i in range(len(y)):\n",
    "        fig.add_trace(go.Scatter(x=x, y=y[i], mode=\"lines\", name=name[i]))\n",
    "\n",
    "    fig.update_layout(\n",
    "        title=\"Cumulative Jobs Posted Over Time\",\n",
    "        xaxis_title=\"Date\",\n",
    "        yaxis_title=\"Number of Jobs Posted\",\n",
    "        legend_title=\"Companies\"\n",
    "    )\n",
    "\n",
    "    return fig"
   ]
  },
  {
   "cell_type": "code",
   "execution_count": 8,
   "metadata": {},
   "outputs": [],
   "source": [
    "df = (\n",
    "    companies\n",
    "    .join(jobs, on=\"company_id\")\n",
    "    .filter(pl.col(\"state\").eq(\"posted\"))\n",
    "    .group_by(\"company_name\", \"date\")\n",
    "    .agg(posted_jobs=pl.count(\"id\"))\n",
    "    .collect()\n",
    ")"
   ]
  },
  {
   "cell_type": "code",
   "execution_count": 9,
   "metadata": {},
   "outputs": [],
   "source": [
    "dates = df.select(\"date\").unique()\n",
    "company_names = df.select(\"company_name\").unique()[\"company_name\"].to_list()\n",
    "\n",
    "cum_df = (\n",
    "    dates\n",
    "    .join(df.select(\"company_name\").unique(), on=\"date\", how=\"cross\")\n",
    "    .join(df, on=[\"company_name\", \"date\"], how=\"left\")\n",
    "    .with_columns(posted_jobs=pl.col(\"posted_jobs\").fill_null(0))\n",
    "    .sort(\"date\")\n",
    "    .with_columns(cum_posted_jobs=pl.col(\"posted_jobs\").cum_sum().over(\"company_name\"))\n",
    ")"
   ]
  },
  {
   "cell_type": "code",
   "execution_count": 10,
   "metadata": {},
   "outputs": [],
   "source": [
    "fig = create_area_chart(\n",
    "    x=dates.sort(\"date\")[\"date\"].to_list(),\n",
    "    y=[cum_df.filter(pl.col(\"company_name\").eq(company_name)).select(\"cum_posted_jobs\")[\"cum_posted_jobs\"].to_list() for company_name in company_names],\n",
    "    name=company_names\n",
    ")"
   ]
  },
  {
   "cell_type": "code",
   "execution_count": 11,
   "metadata": {},
   "outputs": [
    {
     "data": {
      "application/vnd.plotly.v1+json": {
       "config": {
        "plotlyServerURL": "https://plot.ly"
       },
       "data": [
        {
         "mode": "lines",
         "name": "Infinite Solutions",
         "type": "scatter",
         "x": [
          "2021-01-06",
          "2021-01-23",
          "2021-01-25",
          "2021-02-05",
          "2021-02-17",
          "2021-03-01",
          "2021-03-06",
          "2021-03-16",
          "2021-04-25",
          "2021-06-17",
          "2021-06-20",
          "2021-07-15",
          "2021-08-01",
          "2021-10-05",
          "2022-02-03",
          "2022-02-15",
          "2022-03-07",
          "2022-03-22",
          "2022-03-29",
          "2022-05-16",
          "2022-05-31",
          "2022-08-12",
          "2022-09-21",
          "2022-12-12"
         ],
         "y": [
          0,
          0,
          0,
          0,
          1,
          1,
          1,
          1,
          1,
          1,
          1,
          1,
          1,
          1,
          1,
          1,
          2,
          2,
          2,
          2,
          2,
          2,
          2,
          2
         ]
        },
        {
         "mode": "lines",
         "name": "Echo Enterprises",
         "type": "scatter",
         "x": [
          "2021-01-06",
          "2021-01-23",
          "2021-01-25",
          "2021-02-05",
          "2021-02-17",
          "2021-03-01",
          "2021-03-06",
          "2021-03-16",
          "2021-04-25",
          "2021-06-17",
          "2021-06-20",
          "2021-07-15",
          "2021-08-01",
          "2021-10-05",
          "2022-02-03",
          "2022-02-15",
          "2022-03-07",
          "2022-03-22",
          "2022-03-29",
          "2022-05-16",
          "2022-05-31",
          "2022-08-12",
          "2022-09-21",
          "2022-12-12"
         ],
         "y": [
          0,
          0,
          0,
          0,
          0,
          0,
          0,
          0,
          0,
          0,
          0,
          1,
          1,
          2,
          2,
          2,
          2,
          2,
          2,
          2,
          3,
          3,
          3,
          3
         ]
        },
        {
         "mode": "lines",
         "name": "Delta Inc.",
         "type": "scatter",
         "x": [
          "2021-01-06",
          "2021-01-23",
          "2021-01-25",
          "2021-02-05",
          "2021-02-17",
          "2021-03-01",
          "2021-03-06",
          "2021-03-16",
          "2021-04-25",
          "2021-06-17",
          "2021-06-20",
          "2021-07-15",
          "2021-08-01",
          "2021-10-05",
          "2022-02-03",
          "2022-02-15",
          "2022-03-07",
          "2022-03-22",
          "2022-03-29",
          "2022-05-16",
          "2022-05-31",
          "2022-08-12",
          "2022-09-21",
          "2022-12-12"
         ],
         "y": [
          0,
          0,
          0,
          1,
          1,
          1,
          1,
          1,
          1,
          1,
          1,
          1,
          2,
          2,
          2,
          3,
          3,
          3,
          3,
          3,
          3,
          4,
          4,
          4
         ]
        },
        {
         "mode": "lines",
         "name": "Fast Track Inc.",
         "type": "scatter",
         "x": [
          "2021-01-06",
          "2021-01-23",
          "2021-01-25",
          "2021-02-05",
          "2021-02-17",
          "2021-03-01",
          "2021-03-06",
          "2021-03-16",
          "2021-04-25",
          "2021-06-17",
          "2021-06-20",
          "2021-07-15",
          "2021-08-01",
          "2021-10-05",
          "2022-02-03",
          "2022-02-15",
          "2022-03-07",
          "2022-03-22",
          "2022-03-29",
          "2022-05-16",
          "2022-05-31",
          "2022-08-12",
          "2022-09-21",
          "2022-12-12"
         ],
         "y": [
          0,
          0,
          0,
          0,
          0,
          0,
          0,
          0,
          0,
          0,
          0,
          0,
          0,
          0,
          1,
          1,
          1,
          2,
          2,
          2,
          2,
          2,
          2,
          2
         ]
        },
        {
         "mode": "lines",
         "name": "Best Corp.",
         "type": "scatter",
         "x": [
          "2021-01-06",
          "2021-01-23",
          "2021-01-25",
          "2021-02-05",
          "2021-02-17",
          "2021-03-01",
          "2021-03-06",
          "2021-03-16",
          "2021-04-25",
          "2021-06-17",
          "2021-06-20",
          "2021-07-15",
          "2021-08-01",
          "2021-10-05",
          "2022-02-03",
          "2022-02-15",
          "2022-03-07",
          "2022-03-22",
          "2022-03-29",
          "2022-05-16",
          "2022-05-31",
          "2022-08-12",
          "2022-09-21",
          "2022-12-12"
         ],
         "y": [
          0,
          0,
          1,
          1,
          1,
          1,
          2,
          2,
          2,
          2,
          2,
          2,
          2,
          2,
          2,
          2,
          2,
          2,
          2,
          3,
          3,
          3,
          3,
          4
         ]
        },
        {
         "mode": "lines",
         "name": "High Hopes Inc.",
         "type": "scatter",
         "x": [
          "2021-01-06",
          "2021-01-23",
          "2021-01-25",
          "2021-02-05",
          "2021-02-17",
          "2021-03-01",
          "2021-03-06",
          "2021-03-16",
          "2021-04-25",
          "2021-06-17",
          "2021-06-20",
          "2021-07-15",
          "2021-08-01",
          "2021-10-05",
          "2022-02-03",
          "2022-02-15",
          "2022-03-07",
          "2022-03-22",
          "2022-03-29",
          "2022-05-16",
          "2022-05-31",
          "2022-08-12",
          "2022-09-21",
          "2022-12-12"
         ],
         "y": [
          0,
          0,
          0,
          0,
          0,
          0,
          0,
          0,
          0,
          0,
          0,
          0,
          0,
          0,
          0,
          0,
          0,
          0,
          0,
          0,
          0,
          0,
          1,
          1
         ]
        },
        {
         "mode": "lines",
         "name": "Bright Future Enterprises",
         "type": "scatter",
         "x": [
          "2021-01-06",
          "2021-01-23",
          "2021-01-25",
          "2021-02-05",
          "2021-02-17",
          "2021-03-01",
          "2021-03-06",
          "2021-03-16",
          "2021-04-25",
          "2021-06-17",
          "2021-06-20",
          "2021-07-15",
          "2021-08-01",
          "2021-10-05",
          "2022-02-03",
          "2022-02-15",
          "2022-03-07",
          "2022-03-22",
          "2022-03-29",
          "2022-05-16",
          "2022-05-31",
          "2022-08-12",
          "2022-09-21",
          "2022-12-12"
         ],
         "y": [
          0,
          1,
          1,
          1,
          1,
          1,
          1,
          2,
          2,
          3,
          3,
          3,
          3,
          3,
          3,
          3,
          3,
          3,
          3,
          3,
          3,
          3,
          3,
          3
         ]
        },
        {
         "mode": "lines",
         "name": "Global Enterprises",
         "type": "scatter",
         "x": [
          "2021-01-06",
          "2021-01-23",
          "2021-01-25",
          "2021-02-05",
          "2021-02-17",
          "2021-03-01",
          "2021-03-06",
          "2021-03-16",
          "2021-04-25",
          "2021-06-17",
          "2021-06-20",
          "2021-07-15",
          "2021-08-01",
          "2021-10-05",
          "2022-02-03",
          "2022-02-15",
          "2022-03-07",
          "2022-03-22",
          "2022-03-29",
          "2022-05-16",
          "2022-05-31",
          "2022-08-12",
          "2022-09-21",
          "2022-12-12"
         ],
         "y": [
          1,
          1,
          1,
          1,
          1,
          2,
          2,
          2,
          3,
          3,
          4,
          4,
          4,
          4,
          4,
          4,
          4,
          4,
          5,
          5,
          5,
          5,
          5,
          5
         ]
        }
       ],
       "layout": {
        "legend": {
         "title": {
          "text": "Companies"
         }
        },
        "template": {
         "data": {
          "bar": [
           {
            "error_x": {
             "color": "#2a3f5f"
            },
            "error_y": {
             "color": "#2a3f5f"
            },
            "marker": {
             "line": {
              "color": "#E5ECF6",
              "width": 0.5
             },
             "pattern": {
              "fillmode": "overlay",
              "size": 10,
              "solidity": 0.2
             }
            },
            "type": "bar"
           }
          ],
          "barpolar": [
           {
            "marker": {
             "line": {
              "color": "#E5ECF6",
              "width": 0.5
             },
             "pattern": {
              "fillmode": "overlay",
              "size": 10,
              "solidity": 0.2
             }
            },
            "type": "barpolar"
           }
          ],
          "carpet": [
           {
            "aaxis": {
             "endlinecolor": "#2a3f5f",
             "gridcolor": "white",
             "linecolor": "white",
             "minorgridcolor": "white",
             "startlinecolor": "#2a3f5f"
            },
            "baxis": {
             "endlinecolor": "#2a3f5f",
             "gridcolor": "white",
             "linecolor": "white",
             "minorgridcolor": "white",
             "startlinecolor": "#2a3f5f"
            },
            "type": "carpet"
           }
          ],
          "choropleth": [
           {
            "colorbar": {
             "outlinewidth": 0,
             "ticks": ""
            },
            "type": "choropleth"
           }
          ],
          "contour": [
           {
            "colorbar": {
             "outlinewidth": 0,
             "ticks": ""
            },
            "colorscale": [
             [
              0,
              "#0d0887"
             ],
             [
              0.1111111111111111,
              "#46039f"
             ],
             [
              0.2222222222222222,
              "#7201a8"
             ],
             [
              0.3333333333333333,
              "#9c179e"
             ],
             [
              0.4444444444444444,
              "#bd3786"
             ],
             [
              0.5555555555555556,
              "#d8576b"
             ],
             [
              0.6666666666666666,
              "#ed7953"
             ],
             [
              0.7777777777777778,
              "#fb9f3a"
             ],
             [
              0.8888888888888888,
              "#fdca26"
             ],
             [
              1,
              "#f0f921"
             ]
            ],
            "type": "contour"
           }
          ],
          "contourcarpet": [
           {
            "colorbar": {
             "outlinewidth": 0,
             "ticks": ""
            },
            "type": "contourcarpet"
           }
          ],
          "heatmap": [
           {
            "colorbar": {
             "outlinewidth": 0,
             "ticks": ""
            },
            "colorscale": [
             [
              0,
              "#0d0887"
             ],
             [
              0.1111111111111111,
              "#46039f"
             ],
             [
              0.2222222222222222,
              "#7201a8"
             ],
             [
              0.3333333333333333,
              "#9c179e"
             ],
             [
              0.4444444444444444,
              "#bd3786"
             ],
             [
              0.5555555555555556,
              "#d8576b"
             ],
             [
              0.6666666666666666,
              "#ed7953"
             ],
             [
              0.7777777777777778,
              "#fb9f3a"
             ],
             [
              0.8888888888888888,
              "#fdca26"
             ],
             [
              1,
              "#f0f921"
             ]
            ],
            "type": "heatmap"
           }
          ],
          "heatmapgl": [
           {
            "colorbar": {
             "outlinewidth": 0,
             "ticks": ""
            },
            "colorscale": [
             [
              0,
              "#0d0887"
             ],
             [
              0.1111111111111111,
              "#46039f"
             ],
             [
              0.2222222222222222,
              "#7201a8"
             ],
             [
              0.3333333333333333,
              "#9c179e"
             ],
             [
              0.4444444444444444,
              "#bd3786"
             ],
             [
              0.5555555555555556,
              "#d8576b"
             ],
             [
              0.6666666666666666,
              "#ed7953"
             ],
             [
              0.7777777777777778,
              "#fb9f3a"
             ],
             [
              0.8888888888888888,
              "#fdca26"
             ],
             [
              1,
              "#f0f921"
             ]
            ],
            "type": "heatmapgl"
           }
          ],
          "histogram": [
           {
            "marker": {
             "pattern": {
              "fillmode": "overlay",
              "size": 10,
              "solidity": 0.2
             }
            },
            "type": "histogram"
           }
          ],
          "histogram2d": [
           {
            "colorbar": {
             "outlinewidth": 0,
             "ticks": ""
            },
            "colorscale": [
             [
              0,
              "#0d0887"
             ],
             [
              0.1111111111111111,
              "#46039f"
             ],
             [
              0.2222222222222222,
              "#7201a8"
             ],
             [
              0.3333333333333333,
              "#9c179e"
             ],
             [
              0.4444444444444444,
              "#bd3786"
             ],
             [
              0.5555555555555556,
              "#d8576b"
             ],
             [
              0.6666666666666666,
              "#ed7953"
             ],
             [
              0.7777777777777778,
              "#fb9f3a"
             ],
             [
              0.8888888888888888,
              "#fdca26"
             ],
             [
              1,
              "#f0f921"
             ]
            ],
            "type": "histogram2d"
           }
          ],
          "histogram2dcontour": [
           {
            "colorbar": {
             "outlinewidth": 0,
             "ticks": ""
            },
            "colorscale": [
             [
              0,
              "#0d0887"
             ],
             [
              0.1111111111111111,
              "#46039f"
             ],
             [
              0.2222222222222222,
              "#7201a8"
             ],
             [
              0.3333333333333333,
              "#9c179e"
             ],
             [
              0.4444444444444444,
              "#bd3786"
             ],
             [
              0.5555555555555556,
              "#d8576b"
             ],
             [
              0.6666666666666666,
              "#ed7953"
             ],
             [
              0.7777777777777778,
              "#fb9f3a"
             ],
             [
              0.8888888888888888,
              "#fdca26"
             ],
             [
              1,
              "#f0f921"
             ]
            ],
            "type": "histogram2dcontour"
           }
          ],
          "mesh3d": [
           {
            "colorbar": {
             "outlinewidth": 0,
             "ticks": ""
            },
            "type": "mesh3d"
           }
          ],
          "parcoords": [
           {
            "line": {
             "colorbar": {
              "outlinewidth": 0,
              "ticks": ""
             }
            },
            "type": "parcoords"
           }
          ],
          "pie": [
           {
            "automargin": true,
            "type": "pie"
           }
          ],
          "scatter": [
           {
            "fillpattern": {
             "fillmode": "overlay",
             "size": 10,
             "solidity": 0.2
            },
            "type": "scatter"
           }
          ],
          "scatter3d": [
           {
            "line": {
             "colorbar": {
              "outlinewidth": 0,
              "ticks": ""
             }
            },
            "marker": {
             "colorbar": {
              "outlinewidth": 0,
              "ticks": ""
             }
            },
            "type": "scatter3d"
           }
          ],
          "scattercarpet": [
           {
            "marker": {
             "colorbar": {
              "outlinewidth": 0,
              "ticks": ""
             }
            },
            "type": "scattercarpet"
           }
          ],
          "scattergeo": [
           {
            "marker": {
             "colorbar": {
              "outlinewidth": 0,
              "ticks": ""
             }
            },
            "type": "scattergeo"
           }
          ],
          "scattergl": [
           {
            "marker": {
             "colorbar": {
              "outlinewidth": 0,
              "ticks": ""
             }
            },
            "type": "scattergl"
           }
          ],
          "scattermapbox": [
           {
            "marker": {
             "colorbar": {
              "outlinewidth": 0,
              "ticks": ""
             }
            },
            "type": "scattermapbox"
           }
          ],
          "scatterpolar": [
           {
            "marker": {
             "colorbar": {
              "outlinewidth": 0,
              "ticks": ""
             }
            },
            "type": "scatterpolar"
           }
          ],
          "scatterpolargl": [
           {
            "marker": {
             "colorbar": {
              "outlinewidth": 0,
              "ticks": ""
             }
            },
            "type": "scatterpolargl"
           }
          ],
          "scatterternary": [
           {
            "marker": {
             "colorbar": {
              "outlinewidth": 0,
              "ticks": ""
             }
            },
            "type": "scatterternary"
           }
          ],
          "surface": [
           {
            "colorbar": {
             "outlinewidth": 0,
             "ticks": ""
            },
            "colorscale": [
             [
              0,
              "#0d0887"
             ],
             [
              0.1111111111111111,
              "#46039f"
             ],
             [
              0.2222222222222222,
              "#7201a8"
             ],
             [
              0.3333333333333333,
              "#9c179e"
             ],
             [
              0.4444444444444444,
              "#bd3786"
             ],
             [
              0.5555555555555556,
              "#d8576b"
             ],
             [
              0.6666666666666666,
              "#ed7953"
             ],
             [
              0.7777777777777778,
              "#fb9f3a"
             ],
             [
              0.8888888888888888,
              "#fdca26"
             ],
             [
              1,
              "#f0f921"
             ]
            ],
            "type": "surface"
           }
          ],
          "table": [
           {
            "cells": {
             "fill": {
              "color": "#EBF0F8"
             },
             "line": {
              "color": "white"
             }
            },
            "header": {
             "fill": {
              "color": "#C8D4E3"
             },
             "line": {
              "color": "white"
             }
            },
            "type": "table"
           }
          ]
         },
         "layout": {
          "annotationdefaults": {
           "arrowcolor": "#2a3f5f",
           "arrowhead": 0,
           "arrowwidth": 1
          },
          "autotypenumbers": "strict",
          "coloraxis": {
           "colorbar": {
            "outlinewidth": 0,
            "ticks": ""
           }
          },
          "colorscale": {
           "diverging": [
            [
             0,
             "#8e0152"
            ],
            [
             0.1,
             "#c51b7d"
            ],
            [
             0.2,
             "#de77ae"
            ],
            [
             0.3,
             "#f1b6da"
            ],
            [
             0.4,
             "#fde0ef"
            ],
            [
             0.5,
             "#f7f7f7"
            ],
            [
             0.6,
             "#e6f5d0"
            ],
            [
             0.7,
             "#b8e186"
            ],
            [
             0.8,
             "#7fbc41"
            ],
            [
             0.9,
             "#4d9221"
            ],
            [
             1,
             "#276419"
            ]
           ],
           "sequential": [
            [
             0,
             "#0d0887"
            ],
            [
             0.1111111111111111,
             "#46039f"
            ],
            [
             0.2222222222222222,
             "#7201a8"
            ],
            [
             0.3333333333333333,
             "#9c179e"
            ],
            [
             0.4444444444444444,
             "#bd3786"
            ],
            [
             0.5555555555555556,
             "#d8576b"
            ],
            [
             0.6666666666666666,
             "#ed7953"
            ],
            [
             0.7777777777777778,
             "#fb9f3a"
            ],
            [
             0.8888888888888888,
             "#fdca26"
            ],
            [
             1,
             "#f0f921"
            ]
           ],
           "sequentialminus": [
            [
             0,
             "#0d0887"
            ],
            [
             0.1111111111111111,
             "#46039f"
            ],
            [
             0.2222222222222222,
             "#7201a8"
            ],
            [
             0.3333333333333333,
             "#9c179e"
            ],
            [
             0.4444444444444444,
             "#bd3786"
            ],
            [
             0.5555555555555556,
             "#d8576b"
            ],
            [
             0.6666666666666666,
             "#ed7953"
            ],
            [
             0.7777777777777778,
             "#fb9f3a"
            ],
            [
             0.8888888888888888,
             "#fdca26"
            ],
            [
             1,
             "#f0f921"
            ]
           ]
          },
          "colorway": [
           "#636efa",
           "#EF553B",
           "#00cc96",
           "#ab63fa",
           "#FFA15A",
           "#19d3f3",
           "#FF6692",
           "#B6E880",
           "#FF97FF",
           "#FECB52"
          ],
          "font": {
           "color": "#2a3f5f"
          },
          "geo": {
           "bgcolor": "white",
           "lakecolor": "white",
           "landcolor": "#E5ECF6",
           "showlakes": true,
           "showland": true,
           "subunitcolor": "white"
          },
          "hoverlabel": {
           "align": "left"
          },
          "hovermode": "closest",
          "mapbox": {
           "style": "light"
          },
          "paper_bgcolor": "white",
          "plot_bgcolor": "#E5ECF6",
          "polar": {
           "angularaxis": {
            "gridcolor": "white",
            "linecolor": "white",
            "ticks": ""
           },
           "bgcolor": "#E5ECF6",
           "radialaxis": {
            "gridcolor": "white",
            "linecolor": "white",
            "ticks": ""
           }
          },
          "scene": {
           "xaxis": {
            "backgroundcolor": "#E5ECF6",
            "gridcolor": "white",
            "gridwidth": 2,
            "linecolor": "white",
            "showbackground": true,
            "ticks": "",
            "zerolinecolor": "white"
           },
           "yaxis": {
            "backgroundcolor": "#E5ECF6",
            "gridcolor": "white",
            "gridwidth": 2,
            "linecolor": "white",
            "showbackground": true,
            "ticks": "",
            "zerolinecolor": "white"
           },
           "zaxis": {
            "backgroundcolor": "#E5ECF6",
            "gridcolor": "white",
            "gridwidth": 2,
            "linecolor": "white",
            "showbackground": true,
            "ticks": "",
            "zerolinecolor": "white"
           }
          },
          "shapedefaults": {
           "line": {
            "color": "#2a3f5f"
           }
          },
          "ternary": {
           "aaxis": {
            "gridcolor": "white",
            "linecolor": "white",
            "ticks": ""
           },
           "baxis": {
            "gridcolor": "white",
            "linecolor": "white",
            "ticks": ""
           },
           "bgcolor": "#E5ECF6",
           "caxis": {
            "gridcolor": "white",
            "linecolor": "white",
            "ticks": ""
           }
          },
          "title": {
           "x": 0.05
          },
          "xaxis": {
           "automargin": true,
           "gridcolor": "white",
           "linecolor": "white",
           "ticks": "",
           "title": {
            "standoff": 15
           },
           "zerolinecolor": "white",
           "zerolinewidth": 2
          },
          "yaxis": {
           "automargin": true,
           "gridcolor": "white",
           "linecolor": "white",
           "ticks": "",
           "title": {
            "standoff": 15
           },
           "zerolinecolor": "white",
           "zerolinewidth": 2
          }
         }
        },
        "title": {
         "text": "Cumulative Jobs Posted Over Time"
        },
        "xaxis": {
         "title": {
          "text": "Date"
         }
        },
        "yaxis": {
         "title": {
          "text": "Number of Jobs Posted"
         }
        }
       }
      }
     },
     "metadata": {},
     "output_type": "display_data"
    }
   ],
   "source": [
    "fig.show()"
   ]
  },
  {
   "cell_type": "markdown",
   "metadata": {},
   "source": [
    "Average Price of Posted Jobs by Companies"
   ]
  },
  {
   "cell_type": "code",
   "execution_count": 14,
   "metadata": {},
   "outputs": [
    {
     "data": {
      "text/html": [
       "<div><style>\n",
       ".dataframe > thead > tr,\n",
       ".dataframe > tbody > tr {\n",
       "  text-align: right;\n",
       "  white-space: pre-wrap;\n",
       "}\n",
       "</style>\n",
       "<small>shape: (9, 7)</small><table border=\"1\" class=\"dataframe\"><thead><tr><th>company_name</th><th>number_of_employees</th><th>establishment_date</th><th>avg_price</th><th>min_price</th><th>max_price</th><th>std_price</th></tr><tr><td>str</td><td>i64</td><td>date</td><td>f64</td><td>f64</td><td>f64</td><td>f64</td></tr></thead><tbody><tr><td>&quot;Infinite Solut…</td><td>436</td><td>2021-03-12</td><td>750.949091</td><td>46.15</td><td>5898.0</td><td>1711.470019</td></tr><tr><td>&quot;Delta Inc.&quot;</td><td>662</td><td>2020-11-06</td><td>317.613333</td><td>63.72</td><td>488.1</td><td>143.258997</td></tr><tr><td>&quot;Global Enterpr…</td><td>896</td><td>2022-02-03</td><td>294.446875</td><td>1.77</td><td>466.63</td><td>174.347309</td></tr><tr><td>&quot;Acme Inc.&quot;</td><td>404</td><td>2019-12-31</td><td>281.751111</td><td>36.27</td><td>464.94</td><td>157.763981</td></tr><tr><td>&quot;High Hopes Inc…</td><td>812</td><td>2020-03-17</td><td>280.988</td><td>12.39</td><td>449.49</td><td>167.136731</td></tr><tr><td>&quot;Echo Enterpris…</td><td>255</td><td>2022-05-05</td><td>276.063333</td><td>4.83</td><td>499.23</td><td>194.996285</td></tr><tr><td>&quot;Fast Track Inc…</td><td>374</td><td>2020-03-08</td><td>257.565</td><td>67.15</td><td>440.43</td><td>130.624846</td></tr><tr><td>&quot;Bright Future …</td><td>222</td><td>2020-11-14</td><td>239.06125</td><td>77.28</td><td>498.05</td><td>150.577506</td></tr><tr><td>&quot;Best Corp.&quot;</td><td>229</td><td>2021-03-21</td><td>212.288</td><td>11.83</td><td>440.71</td><td>174.053786</td></tr></tbody></table></div>"
      ],
      "text/plain": [
       "shape: (9, 7)\n",
       "┌───────────────┬───────────────┬───────────────┬────────────┬───────────┬───────────┬─────────────┐\n",
       "│ company_name  ┆ number_of_emp ┆ establishment ┆ avg_price  ┆ min_price ┆ max_price ┆ std_price   │\n",
       "│ ---           ┆ loyees        ┆ _date         ┆ ---        ┆ ---       ┆ ---       ┆ ---         │\n",
       "│ str           ┆ ---           ┆ ---           ┆ f64        ┆ f64       ┆ f64       ┆ f64         │\n",
       "│               ┆ i64           ┆ date          ┆            ┆           ┆           ┆             │\n",
       "╞═══════════════╪═══════════════╪═══════════════╪════════════╪═══════════╪═══════════╪═════════════╡\n",
       "│ Infinite      ┆ 436           ┆ 2021-03-12    ┆ 750.949091 ┆ 46.15     ┆ 5898.0    ┆ 1711.470019 │\n",
       "│ Solutions     ┆               ┆               ┆            ┆           ┆           ┆             │\n",
       "│ Delta Inc.    ┆ 662           ┆ 2020-11-06    ┆ 317.613333 ┆ 63.72     ┆ 488.1     ┆ 143.258997  │\n",
       "│ Global        ┆ 896           ┆ 2022-02-03    ┆ 294.446875 ┆ 1.77      ┆ 466.63    ┆ 174.347309  │\n",
       "│ Enterprises   ┆               ┆               ┆            ┆           ┆           ┆             │\n",
       "│ Acme Inc.     ┆ 404           ┆ 2019-12-31    ┆ 281.751111 ┆ 36.27     ┆ 464.94    ┆ 157.763981  │\n",
       "│ High Hopes    ┆ 812           ┆ 2020-03-17    ┆ 280.988    ┆ 12.39     ┆ 449.49    ┆ 167.136731  │\n",
       "│ Inc.          ┆               ┆               ┆            ┆           ┆           ┆             │\n",
       "│ Echo          ┆ 255           ┆ 2022-05-05    ┆ 276.063333 ┆ 4.83      ┆ 499.23    ┆ 194.996285  │\n",
       "│ Enterprises   ┆               ┆               ┆            ┆           ┆           ┆             │\n",
       "│ Fast Track    ┆ 374           ┆ 2020-03-08    ┆ 257.565    ┆ 67.15     ┆ 440.43    ┆ 130.624846  │\n",
       "│ Inc.          ┆               ┆               ┆            ┆           ┆           ┆             │\n",
       "│ Bright Future ┆ 222           ┆ 2020-11-14    ┆ 239.06125  ┆ 77.28     ┆ 498.05    ┆ 150.577506  │\n",
       "│ Enterprises   ┆               ┆               ┆            ┆           ┆           ┆             │\n",
       "│ Best Corp.    ┆ 229           ┆ 2021-03-21    ┆ 212.288    ┆ 11.83     ┆ 440.71    ┆ 174.053786  │\n",
       "└───────────────┴───────────────┴───────────────┴────────────┴───────────┴───────────┴─────────────┘"
      ]
     },
     "execution_count": 14,
     "metadata": {},
     "output_type": "execute_result"
    }
   ],
   "source": [
    "(\n",
    "    companies\n",
    "    .join(jobs, on=\"company_id\")\n",
    "    .group_by(\"company_name\", \"number_of_employees\", \"establishment_date\")\n",
    "    .agg(avg_price=pl.mean(\"price\"), min_price=pl.min(\"price\"), max_price=pl.max(\"price\"), std_price=pl.std(\"price\"))\n",
    "    .sort(\"avg_price\", descending=True)\n",
    "    .collect()\n",
    ")"
   ]
  },
  {
   "cell_type": "code",
   "execution_count": null,
   "metadata": {},
   "outputs": [],
   "source": []
  },
  {
   "cell_type": "code",
   "execution_count": 13,
   "metadata": {},
   "outputs": [
    {
     "data": {
      "text/html": [
       "<div><style>\n",
       ".dataframe > thead > tr,\n",
       ".dataframe > tbody > tr {\n",
       "  text-align: right;\n",
       "  white-space: pre-wrap;\n",
       "}\n",
       "</style>\n",
       "<small>shape: (8, 4)</small><table border=\"1\" class=\"dataframe\"><thead><tr><th>company_name</th><th>number_of_employees</th><th>posted_jobs</th><th>posted_jobs_per_employee</th></tr><tr><td>str</td><td>i64</td><td>u32</td><td>f64</td></tr></thead><tbody><tr><td>&quot;Best Corp.&quot;</td><td>229</td><td>4</td><td>0.017467</td></tr><tr><td>&quot;Bright Future …</td><td>222</td><td>3</td><td>0.013514</td></tr><tr><td>&quot;Echo Enterpris…</td><td>255</td><td>3</td><td>0.011765</td></tr><tr><td>&quot;Delta Inc.&quot;</td><td>662</td><td>4</td><td>0.006042</td></tr><tr><td>&quot;Global Enterpr…</td><td>896</td><td>5</td><td>0.00558</td></tr><tr><td>&quot;Fast Track Inc…</td><td>374</td><td>2</td><td>0.005348</td></tr><tr><td>&quot;Infinite Solut…</td><td>436</td><td>2</td><td>0.004587</td></tr><tr><td>&quot;High Hopes Inc…</td><td>812</td><td>1</td><td>0.001232</td></tr></tbody></table></div>"
      ],
      "text/plain": [
       "shape: (8, 4)\n",
       "┌───────────────────────────┬─────────────────────┬─────────────┬──────────────────────────┐\n",
       "│ company_name              ┆ number_of_employees ┆ posted_jobs ┆ posted_jobs_per_employee │\n",
       "│ ---                       ┆ ---                 ┆ ---         ┆ ---                      │\n",
       "│ str                       ┆ i64                 ┆ u32         ┆ f64                      │\n",
       "╞═══════════════════════════╪═════════════════════╪═════════════╪══════════════════════════╡\n",
       "│ Best Corp.                ┆ 229                 ┆ 4           ┆ 0.017467                 │\n",
       "│ Bright Future Enterprises ┆ 222                 ┆ 3           ┆ 0.013514                 │\n",
       "│ Echo Enterprises          ┆ 255                 ┆ 3           ┆ 0.011765                 │\n",
       "│ Delta Inc.                ┆ 662                 ┆ 4           ┆ 0.006042                 │\n",
       "│ Global Enterprises        ┆ 896                 ┆ 5           ┆ 0.00558                  │\n",
       "│ Fast Track Inc.           ┆ 374                 ┆ 2           ┆ 0.005348                 │\n",
       "│ Infinite Solutions        ┆ 436                 ┆ 2           ┆ 0.004587                 │\n",
       "│ High Hopes Inc.           ┆ 812                 ┆ 1           ┆ 0.001232                 │\n",
       "└───────────────────────────┴─────────────────────┴─────────────┴──────────────────────────┘"
      ]
     },
     "execution_count": 13,
     "metadata": {},
     "output_type": "execute_result"
    }
   ],
   "source": [
    "(\n",
    "    companies\n",
    "    .join(jobs, on=\"company_id\")\n",
    "    .filter(pl.col(\"state\").eq(\"posted\"))\n",
    "    .group_by(\"company_name\", \"number_of_employees\")\n",
    "    .agg(posted_jobs=pl.count(\"id\"))\n",
    "    .with_columns(posted_jobs_per_employee=pl.col(\"posted_jobs\") / pl.col(\"number_of_employees\"))\n",
    "    .sort(\"posted_jobs_per_employee\", descending=True)\n",
    "    .collect()\n",
    ")"
   ]
  },
  {
   "cell_type": "code",
   "execution_count": null,
   "metadata": {},
   "outputs": [],
   "source": []
  }
 ],
 "metadata": {
  "kernelspec": {
   "display_name": ".venv",
   "language": "python",
   "name": "python3"
  },
  "language_info": {
   "codemirror_mode": {
    "name": "ipython",
    "version": 3
   },
   "file_extension": ".py",
   "mimetype": "text/x-python",
   "name": "python",
   "nbconvert_exporter": "python",
   "pygments_lexer": "ipython3",
   "version": "3.9.13"
  }
 },
 "nbformat": 4,
 "nbformat_minor": 2
}
