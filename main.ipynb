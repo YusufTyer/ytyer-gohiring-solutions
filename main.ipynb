{
 "cells": [
  {
   "cell_type": "code",
   "execution_count": 1,
   "metadata": {},
   "outputs": [],
   "source": [
    "import polars as pl\n",
    "from pathlib import Path"
   ]
  },
  {
   "cell_type": "markdown",
   "metadata": {},
   "source": [
    "## Data"
   ]
  },
  {
   "cell_type": "code",
   "execution_count": 2,
   "metadata": {},
   "outputs": [],
   "source": [
    "locations = pl.scan_parquet(Path(\"data/cleaned/locations.parquet\"))\n",
    "jobs = pl.scan_parquet(Path(\"data/cleaned/jobs.parquet\"))\n",
    "companies = pl.scan_parquet(Path(\"data/cleaned/companies.parquet\"))\n"
   ]
  },
  {
   "cell_type": "markdown",
   "metadata": {},
   "source": [
    "## 1. What location has the most jobs that are either posted or expired?"
   ]
  },
  {
   "cell_type": "code",
   "execution_count": 3,
   "metadata": {},
   "outputs": [
    {
     "data": {
      "text/plain": [
       "{'location': 'Tarth', 'jobs': 15}"
      ]
     },
     "execution_count": 3,
     "metadata": {},
     "output_type": "execute_result"
    }
   ],
   "source": [
    "(\n",
    "    locations\n",
    "    .join(jobs, on=\"zip_code\")\n",
    "    .filter(pl.col(\"state\").is_in([\"posted\", \"expired\"]))\n",
    "    .group_by(\"location\")\n",
    "    .agg(jobs=pl.count(\"id\"))\n",
    "    .sort(\"jobs\", descending=True)\n",
    "    .collect()\n",
    "    .to_dicts()\n",
    ")[0]"
   ]
  },
  {
   "cell_type": "markdown",
   "metadata": {},
   "source": [
    "## 2. What month had the most cancelled jobs?"
   ]
  },
  {
   "cell_type": "code",
   "execution_count": 4,
   "metadata": {},
   "outputs": [
    {
     "data": {
      "text/plain": [
       "{'year': 2021, 'month': 6, 'jobs': 5}"
      ]
     },
     "execution_count": 4,
     "metadata": {},
     "output_type": "execute_result"
    }
   ],
   "source": [
    "(\n",
    "    jobs\n",
    "    .filter(pl.col(\"state\").eq(\"cancelled\"))\n",
    "    .group_by(\"year\", \"month\")\n",
    "    .agg(jobs=pl.count(\"id\"))\n",
    "    .sort(\"jobs\", descending=True)\n",
    "    .collect()\n",
    "    .to_dicts()\n",
    ")[0]"
   ]
  },
  {
   "cell_type": "markdown",
   "metadata": {},
   "source": [
    "## 3. Which company has the highest ratio of posted jobs to employee count?"
   ]
  },
  {
   "cell_type": "markdown",
   "metadata": {},
   "source": [
    "There's no job data available for Jumpstart Corp. "
   ]
  },
  {
   "cell_type": "code",
   "execution_count": 5,
   "metadata": {},
   "outputs": [
    {
     "data": {
      "text/plain": [
       "{'company_name': 'Best Corp.',\n",
       " 'number_of_employees': 229,\n",
       " 'posted_jobs': 4,\n",
       " 'posted_jobs_per_employee': 0.017467248908296942}"
      ]
     },
     "execution_count": 5,
     "metadata": {},
     "output_type": "execute_result"
    }
   ],
   "source": [
    "(\n",
    "    companies\n",
    "    .join(jobs, on=\"company_id\")\n",
    "    .filter(pl.col(\"state\").eq(\"posted\"))\n",
    "    .group_by(\"company_name\", \"number_of_employees\")\n",
    "    .agg(posted_jobs=pl.count(\"id\"))\n",
    "    .with_columns(posted_jobs_per_employee=pl.col(\"posted_jobs\") / pl.col(\"number_of_employees\"))\n",
    "    .sort(\"posted_jobs_per_employee\", descending=True)\n",
    "    .collect()\n",
    "    .to_dicts()\n",
    ")[0]"
   ]
  },
  {
   "cell_type": "markdown",
   "metadata": {},
   "source": [
    "### 4. Develop the SQL to define a dimensional model schema for this data. Document (or be ready to discuss) any design decisions that you make."
   ]
  },
  {
   "cell_type": "markdown",
   "metadata": {},
   "source": [
    "1. Company Dimension"
   ]
  },
  {
   "cell_type": "code",
   "execution_count": 6,
   "metadata": {
    "vscode": {
     "languageId": "sql"
    }
   },
   "outputs": [
    {
     "ename": "SyntaxError",
     "evalue": "invalid syntax (1704445078.py, line 1)",
     "output_type": "error",
     "traceback": [
      "\u001b[1;36m  Cell \u001b[1;32mIn[6], line 1\u001b[1;36m\u001b[0m\n\u001b[1;33m    CREATE TABLE dim_company\u001b[0m\n\u001b[1;37m           ^\u001b[0m\n\u001b[1;31mSyntaxError\u001b[0m\u001b[1;31m:\u001b[0m invalid syntax\n"
     ]
    }
   ],
   "source": [
    "CREATE TABLE dim_company\n",
    "(\n",
    "    company_id INT PRIMARY KEY,\n",
    "    company_name VARCHAR(255),\n",
    "    establishment_date DATE,\n",
    "    number_of_employees INT\n",
    ");"
   ]
  },
  {
   "cell_type": "markdown",
   "metadata": {},
   "source": [
    "2. Location Dimension"
   ]
  },
  {
   "cell_type": "code",
   "execution_count": null,
   "metadata": {
    "vscode": {
     "languageId": "sql"
    }
   },
   "outputs": [],
   "source": [
    "CREATE TABLE dim_location\n",
    "(\n",
    "    zip_code INT PRIMARY KEY,\n",
    "    location VARCHAR(255)\n",
    ");"
   ]
  },
  {
   "cell_type": "markdown",
   "metadata": {},
   "source": [
    "3. Fact Table"
   ]
  },
  {
   "cell_type": "code",
   "execution_count": null,
   "metadata": {
    "vscode": {
     "languageId": "sql"
    }
   },
   "outputs": [],
   "source": [
    "CREATE TABLE jobs\n",
    "(\n",
    "    id INT PRIMARY KEY,\n",
    "    state VARCHAR(255),\n",
    "    price FLOAT,\n",
    "    company_id INT,\n",
    "    date DATE,\n",
    "    month SMALLINT,\n",
    "    year INT,\n",
    "    zip_code INT,\n",
    "    FOREIGN KEY (company_id) REFERENCES dim_company(company_id),\n",
    "    FOREIGN KEY (zip_code) REFERENCES dim_location(zip_code)\n",
    ");"
   ]
  },
  {
   "cell_type": "markdown",
   "metadata": {},
   "source": [
    "#### Design Considerations"
   ]
  },
  {
   "cell_type": "markdown",
   "metadata": {},
   "source": [
    "- Primary Keys: Each table has a primary key (company_id, zip_code, and id for the fact table), which uniquely identifies a row within those tables.\n",
    "\n",
    "- Foreign Keys in Fact Table: The fact_transaction table includes foreign keys to dim_company and dim_location. This enforces referential integrity between the transactions and companies/locations involved. It allows the fact table to remain lean and optimized for queries that join on these dimensions for descriptive analysis.\n",
    "\n",
    "- Normalization: The schema shows a normalized form to avoid redundancy and ensure data integrity. This is particularly important for the company and location information, which might relate to many transactions.\n",
    "\n",
    "- Granularity: The fact table's granularity is at the individual transaction level, containing foreign keys back to the dimension tables for descriptive attributes.\n",
    "\n",
    "- Month and Year Columns: Including month and year as separate columns in the fact_transaction table can speed up queries that aggregate data by these time units without requiring extraction from the date column."
   ]
  },
  {
   "cell_type": "markdown",
   "metadata": {},
   "source": [
    "#### Additional Considerations (Not Implemented):"
   ]
  },
  {
   "cell_type": "markdown",
   "metadata": {},
   "source": [
    "- Job Description: The job description is not included in the schema. If this information is needed for analysis, it could be stored in a separate table linked to the fact table by a foreign key.\n",
    "\n",
    "- Keys and Indexes: The schema does not include keys or indexes for performance optimization. Depending on the database system and query patterns, these could be added to improve query performance."
   ]
  },
  {
   "cell_type": "markdown",
   "metadata": {},
   "source": [
    "### 5. Using your dimensional model, write a SQL query that returns a list of jobs for each company, ordered and enumerated within each group by the posted_at date"
   ]
  },
  {
   "cell_type": "code",
   "execution_count": null,
   "metadata": {
    "vscode": {
     "languageId": "sql"
    }
   },
   "outputs": [],
   "source": [
    "WITH OrderedJobs AS (\n",
    "  SELECT\n",
    "    j.id AS job_id,\n",
    "    c.company_name,\n",
    "    j.date AS posted_date,\n",
    "    ROW_NUMBER() OVER(PARTITION BY j.company_id ORDER BY j.date) AS job_sequence_number\n",
    "  FROM jobs j\n",
    "  JOIN dim_company c ON j.company_id = c.company_id\n",
    ")\n",
    "\n",
    "SELECT *\n",
    "FROM OrderedJobs\n",
    "ORDER BY company_name, posted_date;"
   ]
  },
  {
   "cell_type": "markdown",
   "metadata": {},
   "source": [
    "### 6. Discuss how you would obtain and model information (within your schema) about the duration of jobs (from posted to expired states)."
   ]
  },
  {
   "cell_type": "markdown",
   "metadata": {},
   "source": [
    "The schema currently contains `date` which is referring to the date at which the job was posted. To model the duration of jobs, we could add a new column to the fact table called `expired_at`. When a new job listing is captured, both the start (posting) and end (expiration) points should be recorded.\n",
    "\n",
    "Using the newly added `expired_at` field, we can calculate the difference between the `posted_at` and `expired_at` dates. This would allow us to analyze the length of time jobs are active and identify trends or patterns in job duration."
   ]
  },
  {
   "cell_type": "markdown",
   "metadata": {},
   "source": [
    "### 7. Provide a visualization showing the trend of the number of active jobs over time. Also include the company name data in this visualization."
   ]
  },
  {
   "cell_type": "markdown",
   "metadata": {},
   "source": [
    "Assuming active jobs implies jobs that are currently posted and not expired or cancelled."
   ]
  },
  {
   "cell_type": "code",
   "execution_count": 6,
   "metadata": {},
   "outputs": [],
   "source": [
    "import plotly.graph_objects as go\n",
    "from datetime import date"
   ]
  },
  {
   "cell_type": "code",
   "execution_count": 46,
   "metadata": {},
   "outputs": [],
   "source": [
    "def create_area_chart(x: list[date], y: list[list[float]], name: list[str]) -> go.Figure:\n",
    "    assert len(y) == len(name)\n",
    "\n",
    "    fig = go.Figure()\n",
    "    for i in range(len(y)):\n",
    "        fig.add_trace(go.Scatter(x=x, y=y[i], mode=\"lines\", name=name[i], fill='tozeroy'))\n",
    "\n",
    "    fig.update_layout(\n",
    "        title=\"Cumulative Jobs Posted Over Time\",\n",
    "        xaxis_title=\"Date\",\n",
    "        yaxis_title=\"Number of Jobs Posted\",\n",
    "        legend_title=\"Companies\"\n",
    "    )\n",
    "\n",
    "    return fig"
   ]
  },
  {
   "cell_type": "code",
   "execution_count": 47,
   "metadata": {},
   "outputs": [],
   "source": [
    "df = (\n",
    "    companies\n",
    "    .join(jobs, on=\"company_id\")\n",
    "    .filter(pl.col(\"state\").eq(\"posted\"))\n",
    "    .group_by(\"company_name\", \"date\")\n",
    "    .agg(posted_jobs=pl.count(\"id\"))\n",
    "    .collect()\n",
    ")"
   ]
  },
  {
   "cell_type": "code",
   "execution_count": 48,
   "metadata": {},
   "outputs": [],
   "source": [
    "dates = df.select(\"date\").unique()\n",
    "company_names = df.select(\"company_name\").unique()[\"company_name\"].to_list()\n",
    "\n",
    "cum_df = (\n",
    "    dates\n",
    "    .join(df.select(\"company_name\").unique(), on=\"date\", how=\"cross\")\n",
    "    .join(df, on=[\"company_name\", \"date\"], how=\"left\")\n",
    "    .with_columns(posted_jobs=pl.col(\"posted_jobs\").fill_null(0))\n",
    "    .sort(\"date\")\n",
    "    .with_columns(cum_posted_jobs=pl.col(\"posted_jobs\").cum_sum().over(\"company_name\"))\n",
    ")"
   ]
  },
  {
   "cell_type": "code",
   "execution_count": 49,
   "metadata": {},
   "outputs": [],
   "source": [
    "fig = create_area_chart(\n",
    "    x=dates.sort(\"date\")[\"date\"].to_list(),\n",
    "    y=[cum_df.filter(pl.col(\"company_name\").eq(company_name)).select(\"cum_posted_jobs\")[\"cum_posted_jobs\"].to_list() for company_name in company_names],\n",
    "    name=company_names\n",
    ")"
   ]
  },
  {
   "cell_type": "code",
   "execution_count": 50,
   "metadata": {},
   "outputs": [
    {
     "data": {
      "application/vnd.plotly.v1+json": {
       "config": {
        "plotlyServerURL": "https://plot.ly"
       },
       "data": [
        {
         "fill": "tozeroy",
         "mode": "lines",
         "name": "Best Corp.",
         "type": "scatter",
         "x": [
          "2021-01-06",
          "2021-01-23",
          "2021-01-25",
          "2021-02-05",
          "2021-02-17",
          "2021-03-01",
          "2021-03-06",
          "2021-03-16",
          "2021-04-25",
          "2021-06-17",
          "2021-06-20",
          "2021-07-15",
          "2021-08-01",
          "2021-10-05",
          "2022-02-03",
          "2022-02-15",
          "2022-03-07",
          "2022-03-22",
          "2022-03-29",
          "2022-05-16",
          "2022-05-31",
          "2022-08-12",
          "2022-09-21",
          "2022-12-12"
         ],
         "y": [
          0,
          0,
          1,
          1,
          1,
          1,
          2,
          2,
          2,
          2,
          2,
          2,
          2,
          2,
          2,
          2,
          2,
          2,
          2,
          3,
          3,
          3,
          3,
          4
         ]
        },
        {
         "fill": "tozeroy",
         "mode": "lines",
         "name": "Infinite Solutions",
         "type": "scatter",
         "x": [
          "2021-01-06",
          "2021-01-23",
          "2021-01-25",
          "2021-02-05",
          "2021-02-17",
          "2021-03-01",
          "2021-03-06",
          "2021-03-16",
          "2021-04-25",
          "2021-06-17",
          "2021-06-20",
          "2021-07-15",
          "2021-08-01",
          "2021-10-05",
          "2022-02-03",
          "2022-02-15",
          "2022-03-07",
          "2022-03-22",
          "2022-03-29",
          "2022-05-16",
          "2022-05-31",
          "2022-08-12",
          "2022-09-21",
          "2022-12-12"
         ],
         "y": [
          0,
          0,
          0,
          0,
          1,
          1,
          1,
          1,
          1,
          1,
          1,
          1,
          1,
          1,
          1,
          1,
          2,
          2,
          2,
          2,
          2,
          2,
          2,
          2
         ]
        },
        {
         "fill": "tozeroy",
         "mode": "lines",
         "name": "Global Enterprises",
         "type": "scatter",
         "x": [
          "2021-01-06",
          "2021-01-23",
          "2021-01-25",
          "2021-02-05",
          "2021-02-17",
          "2021-03-01",
          "2021-03-06",
          "2021-03-16",
          "2021-04-25",
          "2021-06-17",
          "2021-06-20",
          "2021-07-15",
          "2021-08-01",
          "2021-10-05",
          "2022-02-03",
          "2022-02-15",
          "2022-03-07",
          "2022-03-22",
          "2022-03-29",
          "2022-05-16",
          "2022-05-31",
          "2022-08-12",
          "2022-09-21",
          "2022-12-12"
         ],
         "y": [
          1,
          1,
          1,
          1,
          1,
          2,
          2,
          2,
          3,
          3,
          4,
          4,
          4,
          4,
          4,
          4,
          4,
          4,
          5,
          5,
          5,
          5,
          5,
          5
         ]
        },
        {
         "fill": "tozeroy",
         "mode": "lines",
         "name": "Fast Track Inc.",
         "type": "scatter",
         "x": [
          "2021-01-06",
          "2021-01-23",
          "2021-01-25",
          "2021-02-05",
          "2021-02-17",
          "2021-03-01",
          "2021-03-06",
          "2021-03-16",
          "2021-04-25",
          "2021-06-17",
          "2021-06-20",
          "2021-07-15",
          "2021-08-01",
          "2021-10-05",
          "2022-02-03",
          "2022-02-15",
          "2022-03-07",
          "2022-03-22",
          "2022-03-29",
          "2022-05-16",
          "2022-05-31",
          "2022-08-12",
          "2022-09-21",
          "2022-12-12"
         ],
         "y": [
          0,
          0,
          0,
          0,
          0,
          0,
          0,
          0,
          0,
          0,
          0,
          0,
          0,
          0,
          1,
          1,
          1,
          2,
          2,
          2,
          2,
          2,
          2,
          2
         ]
        },
        {
         "fill": "tozeroy",
         "mode": "lines",
         "name": "Bright Future Enterprises",
         "type": "scatter",
         "x": [
          "2021-01-06",
          "2021-01-23",
          "2021-01-25",
          "2021-02-05",
          "2021-02-17",
          "2021-03-01",
          "2021-03-06",
          "2021-03-16",
          "2021-04-25",
          "2021-06-17",
          "2021-06-20",
          "2021-07-15",
          "2021-08-01",
          "2021-10-05",
          "2022-02-03",
          "2022-02-15",
          "2022-03-07",
          "2022-03-22",
          "2022-03-29",
          "2022-05-16",
          "2022-05-31",
          "2022-08-12",
          "2022-09-21",
          "2022-12-12"
         ],
         "y": [
          0,
          1,
          1,
          1,
          1,
          1,
          1,
          2,
          2,
          3,
          3,
          3,
          3,
          3,
          3,
          3,
          3,
          3,
          3,
          3,
          3,
          3,
          3,
          3
         ]
        },
        {
         "fill": "tozeroy",
         "mode": "lines",
         "name": "Delta Inc.",
         "type": "scatter",
         "x": [
          "2021-01-06",
          "2021-01-23",
          "2021-01-25",
          "2021-02-05",
          "2021-02-17",
          "2021-03-01",
          "2021-03-06",
          "2021-03-16",
          "2021-04-25",
          "2021-06-17",
          "2021-06-20",
          "2021-07-15",
          "2021-08-01",
          "2021-10-05",
          "2022-02-03",
          "2022-02-15",
          "2022-03-07",
          "2022-03-22",
          "2022-03-29",
          "2022-05-16",
          "2022-05-31",
          "2022-08-12",
          "2022-09-21",
          "2022-12-12"
         ],
         "y": [
          0,
          0,
          0,
          1,
          1,
          1,
          1,
          1,
          1,
          1,
          1,
          1,
          2,
          2,
          2,
          3,
          3,
          3,
          3,
          3,
          3,
          4,
          4,
          4
         ]
        },
        {
         "fill": "tozeroy",
         "mode": "lines",
         "name": "High Hopes Inc.",
         "type": "scatter",
         "x": [
          "2021-01-06",
          "2021-01-23",
          "2021-01-25",
          "2021-02-05",
          "2021-02-17",
          "2021-03-01",
          "2021-03-06",
          "2021-03-16",
          "2021-04-25",
          "2021-06-17",
          "2021-06-20",
          "2021-07-15",
          "2021-08-01",
          "2021-10-05",
          "2022-02-03",
          "2022-02-15",
          "2022-03-07",
          "2022-03-22",
          "2022-03-29",
          "2022-05-16",
          "2022-05-31",
          "2022-08-12",
          "2022-09-21",
          "2022-12-12"
         ],
         "y": [
          0,
          0,
          0,
          0,
          0,
          0,
          0,
          0,
          0,
          0,
          0,
          0,
          0,
          0,
          0,
          0,
          0,
          0,
          0,
          0,
          0,
          0,
          1,
          1
         ]
        },
        {
         "fill": "tozeroy",
         "mode": "lines",
         "name": "Echo Enterprises",
         "type": "scatter",
         "x": [
          "2021-01-06",
          "2021-01-23",
          "2021-01-25",
          "2021-02-05",
          "2021-02-17",
          "2021-03-01",
          "2021-03-06",
          "2021-03-16",
          "2021-04-25",
          "2021-06-17",
          "2021-06-20",
          "2021-07-15",
          "2021-08-01",
          "2021-10-05",
          "2022-02-03",
          "2022-02-15",
          "2022-03-07",
          "2022-03-22",
          "2022-03-29",
          "2022-05-16",
          "2022-05-31",
          "2022-08-12",
          "2022-09-21",
          "2022-12-12"
         ],
         "y": [
          0,
          0,
          0,
          0,
          0,
          0,
          0,
          0,
          0,
          0,
          0,
          1,
          1,
          2,
          2,
          2,
          2,
          2,
          2,
          2,
          3,
          3,
          3,
          3
         ]
        }
       ],
       "layout": {
        "legend": {
         "title": {
          "text": "Companies"
         }
        },
        "template": {
         "data": {
          "bar": [
           {
            "error_x": {
             "color": "#2a3f5f"
            },
            "error_y": {
             "color": "#2a3f5f"
            },
            "marker": {
             "line": {
              "color": "#E5ECF6",
              "width": 0.5
             },
             "pattern": {
              "fillmode": "overlay",
              "size": 10,
              "solidity": 0.2
             }
            },
            "type": "bar"
           }
          ],
          "barpolar": [
           {
            "marker": {
             "line": {
              "color": "#E5ECF6",
              "width": 0.5
             },
             "pattern": {
              "fillmode": "overlay",
              "size": 10,
              "solidity": 0.2
             }
            },
            "type": "barpolar"
           }
          ],
          "carpet": [
           {
            "aaxis": {
             "endlinecolor": "#2a3f5f",
             "gridcolor": "white",
             "linecolor": "white",
             "minorgridcolor": "white",
             "startlinecolor": "#2a3f5f"
            },
            "baxis": {
             "endlinecolor": "#2a3f5f",
             "gridcolor": "white",
             "linecolor": "white",
             "minorgridcolor": "white",
             "startlinecolor": "#2a3f5f"
            },
            "type": "carpet"
           }
          ],
          "choropleth": [
           {
            "colorbar": {
             "outlinewidth": 0,
             "ticks": ""
            },
            "type": "choropleth"
           }
          ],
          "contour": [
           {
            "colorbar": {
             "outlinewidth": 0,
             "ticks": ""
            },
            "colorscale": [
             [
              0,
              "#0d0887"
             ],
             [
              0.1111111111111111,
              "#46039f"
             ],
             [
              0.2222222222222222,
              "#7201a8"
             ],
             [
              0.3333333333333333,
              "#9c179e"
             ],
             [
              0.4444444444444444,
              "#bd3786"
             ],
             [
              0.5555555555555556,
              "#d8576b"
             ],
             [
              0.6666666666666666,
              "#ed7953"
             ],
             [
              0.7777777777777778,
              "#fb9f3a"
             ],
             [
              0.8888888888888888,
              "#fdca26"
             ],
             [
              1,
              "#f0f921"
             ]
            ],
            "type": "contour"
           }
          ],
          "contourcarpet": [
           {
            "colorbar": {
             "outlinewidth": 0,
             "ticks": ""
            },
            "type": "contourcarpet"
           }
          ],
          "heatmap": [
           {
            "colorbar": {
             "outlinewidth": 0,
             "ticks": ""
            },
            "colorscale": [
             [
              0,
              "#0d0887"
             ],
             [
              0.1111111111111111,
              "#46039f"
             ],
             [
              0.2222222222222222,
              "#7201a8"
             ],
             [
              0.3333333333333333,
              "#9c179e"
             ],
             [
              0.4444444444444444,
              "#bd3786"
             ],
             [
              0.5555555555555556,
              "#d8576b"
             ],
             [
              0.6666666666666666,
              "#ed7953"
             ],
             [
              0.7777777777777778,
              "#fb9f3a"
             ],
             [
              0.8888888888888888,
              "#fdca26"
             ],
             [
              1,
              "#f0f921"
             ]
            ],
            "type": "heatmap"
           }
          ],
          "heatmapgl": [
           {
            "colorbar": {
             "outlinewidth": 0,
             "ticks": ""
            },
            "colorscale": [
             [
              0,
              "#0d0887"
             ],
             [
              0.1111111111111111,
              "#46039f"
             ],
             [
              0.2222222222222222,
              "#7201a8"
             ],
             [
              0.3333333333333333,
              "#9c179e"
             ],
             [
              0.4444444444444444,
              "#bd3786"
             ],
             [
              0.5555555555555556,
              "#d8576b"
             ],
             [
              0.6666666666666666,
              "#ed7953"
             ],
             [
              0.7777777777777778,
              "#fb9f3a"
             ],
             [
              0.8888888888888888,
              "#fdca26"
             ],
             [
              1,
              "#f0f921"
             ]
            ],
            "type": "heatmapgl"
           }
          ],
          "histogram": [
           {
            "marker": {
             "pattern": {
              "fillmode": "overlay",
              "size": 10,
              "solidity": 0.2
             }
            },
            "type": "histogram"
           }
          ],
          "histogram2d": [
           {
            "colorbar": {
             "outlinewidth": 0,
             "ticks": ""
            },
            "colorscale": [
             [
              0,
              "#0d0887"
             ],
             [
              0.1111111111111111,
              "#46039f"
             ],
             [
              0.2222222222222222,
              "#7201a8"
             ],
             [
              0.3333333333333333,
              "#9c179e"
             ],
             [
              0.4444444444444444,
              "#bd3786"
             ],
             [
              0.5555555555555556,
              "#d8576b"
             ],
             [
              0.6666666666666666,
              "#ed7953"
             ],
             [
              0.7777777777777778,
              "#fb9f3a"
             ],
             [
              0.8888888888888888,
              "#fdca26"
             ],
             [
              1,
              "#f0f921"
             ]
            ],
            "type": "histogram2d"
           }
          ],
          "histogram2dcontour": [
           {
            "colorbar": {
             "outlinewidth": 0,
             "ticks": ""
            },
            "colorscale": [
             [
              0,
              "#0d0887"
             ],
             [
              0.1111111111111111,
              "#46039f"
             ],
             [
              0.2222222222222222,
              "#7201a8"
             ],
             [
              0.3333333333333333,
              "#9c179e"
             ],
             [
              0.4444444444444444,
              "#bd3786"
             ],
             [
              0.5555555555555556,
              "#d8576b"
             ],
             [
              0.6666666666666666,
              "#ed7953"
             ],
             [
              0.7777777777777778,
              "#fb9f3a"
             ],
             [
              0.8888888888888888,
              "#fdca26"
             ],
             [
              1,
              "#f0f921"
             ]
            ],
            "type": "histogram2dcontour"
           }
          ],
          "mesh3d": [
           {
            "colorbar": {
             "outlinewidth": 0,
             "ticks": ""
            },
            "type": "mesh3d"
           }
          ],
          "parcoords": [
           {
            "line": {
             "colorbar": {
              "outlinewidth": 0,
              "ticks": ""
             }
            },
            "type": "parcoords"
           }
          ],
          "pie": [
           {
            "automargin": true,
            "type": "pie"
           }
          ],
          "scatter": [
           {
            "fillpattern": {
             "fillmode": "overlay",
             "size": 10,
             "solidity": 0.2
            },
            "type": "scatter"
           }
          ],
          "scatter3d": [
           {
            "line": {
             "colorbar": {
              "outlinewidth": 0,
              "ticks": ""
             }
            },
            "marker": {
             "colorbar": {
              "outlinewidth": 0,
              "ticks": ""
             }
            },
            "type": "scatter3d"
           }
          ],
          "scattercarpet": [
           {
            "marker": {
             "colorbar": {
              "outlinewidth": 0,
              "ticks": ""
             }
            },
            "type": "scattercarpet"
           }
          ],
          "scattergeo": [
           {
            "marker": {
             "colorbar": {
              "outlinewidth": 0,
              "ticks": ""
             }
            },
            "type": "scattergeo"
           }
          ],
          "scattergl": [
           {
            "marker": {
             "colorbar": {
              "outlinewidth": 0,
              "ticks": ""
             }
            },
            "type": "scattergl"
           }
          ],
          "scattermapbox": [
           {
            "marker": {
             "colorbar": {
              "outlinewidth": 0,
              "ticks": ""
             }
            },
            "type": "scattermapbox"
           }
          ],
          "scatterpolar": [
           {
            "marker": {
             "colorbar": {
              "outlinewidth": 0,
              "ticks": ""
             }
            },
            "type": "scatterpolar"
           }
          ],
          "scatterpolargl": [
           {
            "marker": {
             "colorbar": {
              "outlinewidth": 0,
              "ticks": ""
             }
            },
            "type": "scatterpolargl"
           }
          ],
          "scatterternary": [
           {
            "marker": {
             "colorbar": {
              "outlinewidth": 0,
              "ticks": ""
             }
            },
            "type": "scatterternary"
           }
          ],
          "surface": [
           {
            "colorbar": {
             "outlinewidth": 0,
             "ticks": ""
            },
            "colorscale": [
             [
              0,
              "#0d0887"
             ],
             [
              0.1111111111111111,
              "#46039f"
             ],
             [
              0.2222222222222222,
              "#7201a8"
             ],
             [
              0.3333333333333333,
              "#9c179e"
             ],
             [
              0.4444444444444444,
              "#bd3786"
             ],
             [
              0.5555555555555556,
              "#d8576b"
             ],
             [
              0.6666666666666666,
              "#ed7953"
             ],
             [
              0.7777777777777778,
              "#fb9f3a"
             ],
             [
              0.8888888888888888,
              "#fdca26"
             ],
             [
              1,
              "#f0f921"
             ]
            ],
            "type": "surface"
           }
          ],
          "table": [
           {
            "cells": {
             "fill": {
              "color": "#EBF0F8"
             },
             "line": {
              "color": "white"
             }
            },
            "header": {
             "fill": {
              "color": "#C8D4E3"
             },
             "line": {
              "color": "white"
             }
            },
            "type": "table"
           }
          ]
         },
         "layout": {
          "annotationdefaults": {
           "arrowcolor": "#2a3f5f",
           "arrowhead": 0,
           "arrowwidth": 1
          },
          "autotypenumbers": "strict",
          "coloraxis": {
           "colorbar": {
            "outlinewidth": 0,
            "ticks": ""
           }
          },
          "colorscale": {
           "diverging": [
            [
             0,
             "#8e0152"
            ],
            [
             0.1,
             "#c51b7d"
            ],
            [
             0.2,
             "#de77ae"
            ],
            [
             0.3,
             "#f1b6da"
            ],
            [
             0.4,
             "#fde0ef"
            ],
            [
             0.5,
             "#f7f7f7"
            ],
            [
             0.6,
             "#e6f5d0"
            ],
            [
             0.7,
             "#b8e186"
            ],
            [
             0.8,
             "#7fbc41"
            ],
            [
             0.9,
             "#4d9221"
            ],
            [
             1,
             "#276419"
            ]
           ],
           "sequential": [
            [
             0,
             "#0d0887"
            ],
            [
             0.1111111111111111,
             "#46039f"
            ],
            [
             0.2222222222222222,
             "#7201a8"
            ],
            [
             0.3333333333333333,
             "#9c179e"
            ],
            [
             0.4444444444444444,
             "#bd3786"
            ],
            [
             0.5555555555555556,
             "#d8576b"
            ],
            [
             0.6666666666666666,
             "#ed7953"
            ],
            [
             0.7777777777777778,
             "#fb9f3a"
            ],
            [
             0.8888888888888888,
             "#fdca26"
            ],
            [
             1,
             "#f0f921"
            ]
           ],
           "sequentialminus": [
            [
             0,
             "#0d0887"
            ],
            [
             0.1111111111111111,
             "#46039f"
            ],
            [
             0.2222222222222222,
             "#7201a8"
            ],
            [
             0.3333333333333333,
             "#9c179e"
            ],
            [
             0.4444444444444444,
             "#bd3786"
            ],
            [
             0.5555555555555556,
             "#d8576b"
            ],
            [
             0.6666666666666666,
             "#ed7953"
            ],
            [
             0.7777777777777778,
             "#fb9f3a"
            ],
            [
             0.8888888888888888,
             "#fdca26"
            ],
            [
             1,
             "#f0f921"
            ]
           ]
          },
          "colorway": [
           "#636efa",
           "#EF553B",
           "#00cc96",
           "#ab63fa",
           "#FFA15A",
           "#19d3f3",
           "#FF6692",
           "#B6E880",
           "#FF97FF",
           "#FECB52"
          ],
          "font": {
           "color": "#2a3f5f"
          },
          "geo": {
           "bgcolor": "white",
           "lakecolor": "white",
           "landcolor": "#E5ECF6",
           "showlakes": true,
           "showland": true,
           "subunitcolor": "white"
          },
          "hoverlabel": {
           "align": "left"
          },
          "hovermode": "closest",
          "mapbox": {
           "style": "light"
          },
          "paper_bgcolor": "white",
          "plot_bgcolor": "#E5ECF6",
          "polar": {
           "angularaxis": {
            "gridcolor": "white",
            "linecolor": "white",
            "ticks": ""
           },
           "bgcolor": "#E5ECF6",
           "radialaxis": {
            "gridcolor": "white",
            "linecolor": "white",
            "ticks": ""
           }
          },
          "scene": {
           "xaxis": {
            "backgroundcolor": "#E5ECF6",
            "gridcolor": "white",
            "gridwidth": 2,
            "linecolor": "white",
            "showbackground": true,
            "ticks": "",
            "zerolinecolor": "white"
           },
           "yaxis": {
            "backgroundcolor": "#E5ECF6",
            "gridcolor": "white",
            "gridwidth": 2,
            "linecolor": "white",
            "showbackground": true,
            "ticks": "",
            "zerolinecolor": "white"
           },
           "zaxis": {
            "backgroundcolor": "#E5ECF6",
            "gridcolor": "white",
            "gridwidth": 2,
            "linecolor": "white",
            "showbackground": true,
            "ticks": "",
            "zerolinecolor": "white"
           }
          },
          "shapedefaults": {
           "line": {
            "color": "#2a3f5f"
           }
          },
          "ternary": {
           "aaxis": {
            "gridcolor": "white",
            "linecolor": "white",
            "ticks": ""
           },
           "baxis": {
            "gridcolor": "white",
            "linecolor": "white",
            "ticks": ""
           },
           "bgcolor": "#E5ECF6",
           "caxis": {
            "gridcolor": "white",
            "linecolor": "white",
            "ticks": ""
           }
          },
          "title": {
           "x": 0.05
          },
          "xaxis": {
           "automargin": true,
           "gridcolor": "white",
           "linecolor": "white",
           "ticks": "",
           "title": {
            "standoff": 15
           },
           "zerolinecolor": "white",
           "zerolinewidth": 2
          },
          "yaxis": {
           "automargin": true,
           "gridcolor": "white",
           "linecolor": "white",
           "ticks": "",
           "title": {
            "standoff": 15
           },
           "zerolinecolor": "white",
           "zerolinewidth": 2
          }
         }
        },
        "title": {
         "text": "Cumulative Jobs Posted Over Time"
        },
        "xaxis": {
         "title": {
          "text": "Date"
         }
        },
        "yaxis": {
         "title": {
          "text": "Number of Jobs Posted"
         }
        }
       }
      }
     },
     "metadata": {},
     "output_type": "display_data"
    }
   ],
   "source": [
    "fig.show()"
   ]
  },
  {
   "cell_type": "code",
   "execution_count": null,
   "metadata": {},
   "outputs": [],
   "source": []
  }
 ],
 "metadata": {
  "kernelspec": {
   "display_name": ".venv",
   "language": "python",
   "name": "python3"
  },
  "language_info": {
   "codemirror_mode": {
    "name": "ipython",
    "version": 3
   },
   "file_extension": ".py",
   "mimetype": "text/x-python",
   "name": "python",
   "nbconvert_exporter": "python",
   "pygments_lexer": "ipython3",
   "version": "3.9.13"
  }
 },
 "nbformat": 4,
 "nbformat_minor": 2
}
